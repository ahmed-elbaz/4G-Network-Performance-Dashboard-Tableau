{
  "nbformat": 4,
  "nbformat_minor": 0,
  "metadata": {
    "colab": {
      "name": "Data_preprocessing.ipynb",
      "provenance": [],
      "collapsed_sections": []
    },
    "kernelspec": {
      "name": "python3",
      "display_name": "Python 3"
    },
    "language_info": {
      "name": "python"
    }
  },
  "cells": [
    {
      "cell_type": "markdown",
      "metadata": {
        "id": "O2fwBEeBXGSn"
      },
      "source": [
        "In this notebook we will do some data exploration and preprocessing for both **RSRP** and **TrafficVolume** datasets"
      ]
    },
    {
      "cell_type": "markdown",
      "metadata": {
        "id": "3sbj3uVpWVKN"
      },
      "source": [
        "# **Importing libraries**"
      ]
    },
    {
      "cell_type": "code",
      "metadata": {
        "id": "MQKnJJPrWT7D"
      },
      "source": [
        "import io\n",
        "import pandas as pd   \n",
        "import numpy as np\n",
        "import matplotlib.pyplot as plt\n",
        "import seaborn as sns\n",
        "from google.colab import drive\n",
        "from google.colab import files\n",
        "import os"
      ],
      "execution_count": null,
      "outputs": []
    },
    {
      "cell_type": "markdown",
      "metadata": {
        "id": "WKXhob9EWfCG"
      },
      "source": [
        "# **Reading the data**"
      ]
    },
    {
      "cell_type": "code",
      "metadata": {
        "colab": {
          "base_uri": "https://localhost:8080/"
        },
        "id": "sb86I3HaWdVr",
        "outputId": "bdeb1746-fe8b-4c4a-993a-6dece6174887"
      },
      "source": [
        "drive.mount('/content/gdrive')\n",
        "root_path1 = '/content/gdrive/My Drive/Ericsson_DS_challenge'"
      ],
      "execution_count": null,
      "outputs": [
        {
          "output_type": "stream",
          "text": [
            "Mounted at /content/gdrive\n"
          ],
          "name": "stdout"
        }
      ]
    },
    {
      "cell_type": "code",
      "metadata": {
        "colab": {
          "base_uri": "https://localhost:8080/"
        },
        "id": "tkSjTRz-W4Qq",
        "outputId": "a9ed83d4-f948-4777-b6cc-de9aafadddf9"
      },
      "source": [
        "os.chdir(root_path1) #change current working directory\n",
        "print(os.getcwd())"
      ],
      "execution_count": null,
      "outputs": [
        {
          "output_type": "stream",
          "text": [
            "/content/gdrive/My Drive/Ericsson_DS_challenge\n"
          ],
          "name": "stdout"
        }
      ]
    },
    {
      "cell_type": "code",
      "metadata": {
        "colab": {
          "base_uri": "https://localhost:8080/",
          "height": 399
        },
        "id": "EY1WJlF5XgrD",
        "outputId": "a42a7cf8-63fd-41f7-c8ca-4998c9f79a4e"
      },
      "source": [
        "#Reading RSRP dataset\n",
        "rsrp = pd.read_csv('RSRP.csv')\n",
        "rsrp.head()"
      ],
      "execution_count": null,
      "outputs": [
        {
          "output_type": "execute_result",
          "data": {
            "text/html": [
              "<div>\n",
              "<style scoped>\n",
              "    .dataframe tbody tr th:only-of-type {\n",
              "        vertical-align: middle;\n",
              "    }\n",
              "\n",
              "    .dataframe tbody tr th {\n",
              "        vertical-align: top;\n",
              "    }\n",
              "\n",
              "    .dataframe thead th {\n",
              "        text-align: right;\n",
              "    }\n",
              "</style>\n",
              "<table border=\"1\" class=\"dataframe\">\n",
              "  <thead>\n",
              "    <tr style=\"text-align: right;\">\n",
              "      <th></th>\n",
              "      <th>Timestamp</th>\n",
              "      <th>LocationLatitude</th>\n",
              "      <th>LocationLongitude</th>\n",
              "      <th>RadioConnectionType</th>\n",
              "      <th>Country</th>\n",
              "      <th>RadioNetworkGeneration</th>\n",
              "      <th>RadioOperatorName</th>\n",
              "      <th>RSRP</th>\n",
              "      <th>RadioMobileDataEnabled</th>\n",
              "      <th>DeviceManufacturer</th>\n",
              "      <th>DeviceName</th>\n",
              "    </tr>\n",
              "  </thead>\n",
              "  <tbody>\n",
              "    <tr>\n",
              "      <th>0</th>\n",
              "      <td>2019-11-02 00:09:29.386 +0300</td>\n",
              "      <td>24.54054</td>\n",
              "      <td>46.784737</td>\n",
              "      <td>Mobile</td>\n",
              "      <td>Saudi Arabia</td>\n",
              "      <td>4G</td>\n",
              "      <td>Operator C</td>\n",
              "      <td>2147483647</td>\n",
              "      <td>Enabled</td>\n",
              "      <td>HTC</td>\n",
              "      <td>D728W</td>\n",
              "    </tr>\n",
              "    <tr>\n",
              "      <th>1</th>\n",
              "      <td>2019-11-02 00:09:29.386 +0300</td>\n",
              "      <td>24.54054</td>\n",
              "      <td>46.784737</td>\n",
              "      <td>Mobile</td>\n",
              "      <td>Saudi Arabia</td>\n",
              "      <td>4G</td>\n",
              "      <td>Operator C</td>\n",
              "      <td>2147483647</td>\n",
              "      <td>Enabled</td>\n",
              "      <td>HTC</td>\n",
              "      <td>Desire 728 Dual Sim</td>\n",
              "    </tr>\n",
              "    <tr>\n",
              "      <th>2</th>\n",
              "      <td>2019-11-02 00:10:45.323 +0300</td>\n",
              "      <td>24.54054</td>\n",
              "      <td>46.784737</td>\n",
              "      <td>Mobile</td>\n",
              "      <td>Saudi Arabia</td>\n",
              "      <td>3G</td>\n",
              "      <td>Operator C</td>\n",
              "      <td>2147483647</td>\n",
              "      <td>Enabled</td>\n",
              "      <td>HTC</td>\n",
              "      <td>D728W</td>\n",
              "    </tr>\n",
              "    <tr>\n",
              "      <th>3</th>\n",
              "      <td>2019-11-02 00:10:45.323 +0300</td>\n",
              "      <td>24.54054</td>\n",
              "      <td>46.784737</td>\n",
              "      <td>Mobile</td>\n",
              "      <td>Saudi Arabia</td>\n",
              "      <td>3G</td>\n",
              "      <td>Operator C</td>\n",
              "      <td>2147483647</td>\n",
              "      <td>Enabled</td>\n",
              "      <td>HTC</td>\n",
              "      <td>Desire 728 Dual Sim</td>\n",
              "    </tr>\n",
              "    <tr>\n",
              "      <th>4</th>\n",
              "      <td>2019-11-02 00:11:26.822 +0300</td>\n",
              "      <td>24.54054</td>\n",
              "      <td>46.784737</td>\n",
              "      <td>Mobile</td>\n",
              "      <td>Saudi Arabia</td>\n",
              "      <td>4G</td>\n",
              "      <td>Operator C</td>\n",
              "      <td>2147483647</td>\n",
              "      <td>Enabled</td>\n",
              "      <td>HTC</td>\n",
              "      <td>D728W</td>\n",
              "    </tr>\n",
              "  </tbody>\n",
              "</table>\n",
              "</div>"
            ],
            "text/plain": [
              "                       Timestamp  ...           DeviceName\n",
              "0  2019-11-02 00:09:29.386 +0300  ...                D728W\n",
              "1  2019-11-02 00:09:29.386 +0300  ...  Desire 728 Dual Sim\n",
              "2  2019-11-02 00:10:45.323 +0300  ...                D728W\n",
              "3  2019-11-02 00:10:45.323 +0300  ...  Desire 728 Dual Sim\n",
              "4  2019-11-02 00:11:26.822 +0300  ...                D728W\n",
              "\n",
              "[5 rows x 11 columns]"
            ]
          },
          "metadata": {
            "tags": []
          },
          "execution_count": 19
        }
      ]
    },
    {
      "cell_type": "code",
      "metadata": {
        "colab": {
          "base_uri": "https://localhost:8080/",
          "height": 399
        },
        "id": "ZKtjS6CVYUZQ",
        "outputId": "0282b7c9-42c1-4e09-e823-355ce0b713c9"
      },
      "source": [
        "#Reading traffic dataset\n",
        "traffic = pd.read_csv('TrafficVolume.csv')\n",
        "traffic.head()"
      ],
      "execution_count": null,
      "outputs": [
        {
          "output_type": "execute_result",
          "data": {
            "text/html": [
              "<div>\n",
              "<style scoped>\n",
              "    .dataframe tbody tr th:only-of-type {\n",
              "        vertical-align: middle;\n",
              "    }\n",
              "\n",
              "    .dataframe tbody tr th {\n",
              "        vertical-align: top;\n",
              "    }\n",
              "\n",
              "    .dataframe thead th {\n",
              "        text-align: right;\n",
              "    }\n",
              "</style>\n",
              "<table border=\"1\" class=\"dataframe\">\n",
              "  <thead>\n",
              "    <tr style=\"text-align: right;\">\n",
              "      <th></th>\n",
              "      <th>Timestamp</th>\n",
              "      <th>LocationLatitude</th>\n",
              "      <th>LocationLongitude</th>\n",
              "      <th>RadioConnectionType</th>\n",
              "      <th>Country</th>\n",
              "      <th>RadioNetworkGeneration</th>\n",
              "      <th>RadioOperatorName</th>\n",
              "      <th>TrafficDirection</th>\n",
              "      <th>TrafficVolume</th>\n",
              "      <th>RadioMobileDataEnabled</th>\n",
              "    </tr>\n",
              "  </thead>\n",
              "  <tbody>\n",
              "    <tr>\n",
              "      <th>0</th>\n",
              "      <td>2019-11-02 00:45:00.000 +0300</td>\n",
              "      <td>24.636574</td>\n",
              "      <td>46.710026</td>\n",
              "      <td>Mobile</td>\n",
              "      <td>Saudi Arabia</td>\n",
              "      <td>3G</td>\n",
              "      <td>Operator A</td>\n",
              "      <td>Downlink</td>\n",
              "      <td>14.957630</td>\n",
              "      <td>Enabled</td>\n",
              "    </tr>\n",
              "    <tr>\n",
              "      <th>1</th>\n",
              "      <td>2019-11-02 00:45:00.000 +0300</td>\n",
              "      <td>24.636124</td>\n",
              "      <td>46.711742</td>\n",
              "      <td>Mobile</td>\n",
              "      <td>Saudi Arabia</td>\n",
              "      <td>3G</td>\n",
              "      <td>Operator A</td>\n",
              "      <td>Uplink</td>\n",
              "      <td>0.304565</td>\n",
              "      <td>Enabled</td>\n",
              "    </tr>\n",
              "    <tr>\n",
              "      <th>2</th>\n",
              "      <td>2019-11-02 00:00:00.000 +0300</td>\n",
              "      <td>24.636728</td>\n",
              "      <td>46.710230</td>\n",
              "      <td>Mobile</td>\n",
              "      <td>Saudi Arabia</td>\n",
              "      <td>3G</td>\n",
              "      <td>Operator A</td>\n",
              "      <td>Downlink</td>\n",
              "      <td>20.965813</td>\n",
              "      <td>Enabled</td>\n",
              "    </tr>\n",
              "    <tr>\n",
              "      <th>3</th>\n",
              "      <td>2019-11-02 00:00:00.000 +0300</td>\n",
              "      <td>24.636705</td>\n",
              "      <td>46.710243</td>\n",
              "      <td>Mobile</td>\n",
              "      <td>Saudi Arabia</td>\n",
              "      <td>3G</td>\n",
              "      <td>Operator A</td>\n",
              "      <td>Uplink</td>\n",
              "      <td>0.706546</td>\n",
              "      <td>Enabled</td>\n",
              "    </tr>\n",
              "    <tr>\n",
              "      <th>4</th>\n",
              "      <td>2019-11-02 02:00:00.000 +0300</td>\n",
              "      <td>24.718973</td>\n",
              "      <td>46.805927</td>\n",
              "      <td>Mobile</td>\n",
              "      <td>Saudi Arabia</td>\n",
              "      <td>4G</td>\n",
              "      <td>Operator B</td>\n",
              "      <td>Uplink</td>\n",
              "      <td>1.471874</td>\n",
              "      <td>Enabled</td>\n",
              "    </tr>\n",
              "  </tbody>\n",
              "</table>\n",
              "</div>"
            ],
            "text/plain": [
              "                       Timestamp  ...  RadioMobileDataEnabled\n",
              "0  2019-11-02 00:45:00.000 +0300  ...                 Enabled\n",
              "1  2019-11-02 00:45:00.000 +0300  ...                 Enabled\n",
              "2  2019-11-02 00:00:00.000 +0300  ...                 Enabled\n",
              "3  2019-11-02 00:00:00.000 +0300  ...                 Enabled\n",
              "4  2019-11-02 02:00:00.000 +0300  ...                 Enabled\n",
              "\n",
              "[5 rows x 10 columns]"
            ]
          },
          "metadata": {
            "tags": []
          },
          "execution_count": 47
        }
      ]
    },
    {
      "cell_type": "markdown",
      "metadata": {
        "id": "gz9L4WincAR-"
      },
      "source": [
        "# **RSRP Exploration and cleaning**"
      ]
    },
    {
      "cell_type": "markdown",
      "metadata": {
        "id": "HjnG0RjhcZdM"
      },
      "source": [
        "First let's check how many observations and features for the dataset"
      ]
    },
    {
      "cell_type": "code",
      "metadata": {
        "colab": {
          "base_uri": "https://localhost:8080/"
        },
        "id": "yp-4qdwZYpLj",
        "outputId": "74829eaa-1e5e-439a-c4de-6283fe1e4386"
      },
      "source": [
        "rsrp.shape"
      ],
      "execution_count": null,
      "outputs": [
        {
          "output_type": "execute_result",
          "data": {
            "text/plain": [
              "(2725353, 11)"
            ]
          },
          "metadata": {
            "tags": []
          },
          "execution_count": 20
        }
      ]
    },
    {
      "cell_type": "markdown",
      "metadata": {
        "id": "oMqizJq3czbB"
      },
      "source": [
        "The rsrp dataset has 2,725,353 observation with 11 features"
      ]
    },
    {
      "cell_type": "code",
      "metadata": {
        "colab": {
          "base_uri": "https://localhost:8080/"
        },
        "id": "cV3gD2yvcjT9",
        "outputId": "bd03506d-c38e-4acf-d398-a9bea7c3efaf"
      },
      "source": [
        "#Now we will check columns types\n",
        "rsrp.dtypes"
      ],
      "execution_count": null,
      "outputs": [
        {
          "output_type": "execute_result",
          "data": {
            "text/plain": [
              "Timestamp                  object\n",
              "LocationLatitude          float64\n",
              "LocationLongitude         float64\n",
              "RadioConnectionType        object\n",
              "Country                    object\n",
              "RadioNetworkGeneration     object\n",
              "RadioOperatorName          object\n",
              "RSRP                        int64\n",
              "RadioMobileDataEnabled     object\n",
              "DeviceManufacturer         object\n",
              "DeviceName                 object\n",
              "dtype: object"
            ]
          },
          "metadata": {
            "tags": []
          },
          "execution_count": 21
        }
      ]
    },
    {
      "cell_type": "code",
      "metadata": {
        "colab": {
          "base_uri": "https://localhost:8080/"
        },
        "id": "5xbzVYXpdIhL",
        "outputId": "3cf8ba6a-6aab-4be6-9c91-da83f0a666b6"
      },
      "source": [
        "#Let's explore the object type columns in more details\n",
        "rsrp.select_dtypes('object').apply(pd.Series.nunique, axis = 0)"
      ],
      "execution_count": null,
      "outputs": [
        {
          "output_type": "execute_result",
          "data": {
            "text/plain": [
              "Timestamp                 1986303\n",
              "RadioConnectionType             3\n",
              "Country                         1\n",
              "RadioNetworkGeneration          5\n",
              "RadioOperatorName               3\n",
              "RadioMobileDataEnabled          2\n",
              "DeviceManufacturer             29\n",
              "DeviceName                    292\n",
              "dtype: int64"
            ]
          },
          "metadata": {
            "tags": []
          },
          "execution_count": 22
        }
      ]
    },
    {
      "cell_type": "markdown",
      "metadata": {
        "id": "WWQpWd-eeQK7"
      },
      "source": [
        "As we can see we have only 1 country in the dataset which is Saudi Arabia so we can remove this column entirely"
      ]
    },
    {
      "cell_type": "code",
      "metadata": {
        "id": "E8BWd5QZeGvt"
      },
      "source": [
        "rsrp = rsrp.drop(columns=\"Country\")"
      ],
      "execution_count": null,
      "outputs": []
    },
    {
      "cell_type": "code",
      "metadata": {
        "colab": {
          "base_uri": "https://localhost:8080/",
          "height": 399
        },
        "id": "m6Q6bmUAe9ih",
        "outputId": "8f552209-a788-4821-c09a-87327cc1b285"
      },
      "source": [
        "rsrp.head()"
      ],
      "execution_count": null,
      "outputs": [
        {
          "output_type": "execute_result",
          "data": {
            "text/html": [
              "<div>\n",
              "<style scoped>\n",
              "    .dataframe tbody tr th:only-of-type {\n",
              "        vertical-align: middle;\n",
              "    }\n",
              "\n",
              "    .dataframe tbody tr th {\n",
              "        vertical-align: top;\n",
              "    }\n",
              "\n",
              "    .dataframe thead th {\n",
              "        text-align: right;\n",
              "    }\n",
              "</style>\n",
              "<table border=\"1\" class=\"dataframe\">\n",
              "  <thead>\n",
              "    <tr style=\"text-align: right;\">\n",
              "      <th></th>\n",
              "      <th>Timestamp</th>\n",
              "      <th>LocationLatitude</th>\n",
              "      <th>LocationLongitude</th>\n",
              "      <th>RadioConnectionType</th>\n",
              "      <th>RadioNetworkGeneration</th>\n",
              "      <th>RadioOperatorName</th>\n",
              "      <th>RSRP</th>\n",
              "      <th>RadioMobileDataEnabled</th>\n",
              "      <th>DeviceManufacturer</th>\n",
              "      <th>DeviceName</th>\n",
              "    </tr>\n",
              "  </thead>\n",
              "  <tbody>\n",
              "    <tr>\n",
              "      <th>0</th>\n",
              "      <td>2019-11-02 00:09:29.386 +0300</td>\n",
              "      <td>24.54054</td>\n",
              "      <td>46.784737</td>\n",
              "      <td>Mobile</td>\n",
              "      <td>4G</td>\n",
              "      <td>Operator C</td>\n",
              "      <td>2147483647</td>\n",
              "      <td>Enabled</td>\n",
              "      <td>HTC</td>\n",
              "      <td>D728W</td>\n",
              "    </tr>\n",
              "    <tr>\n",
              "      <th>1</th>\n",
              "      <td>2019-11-02 00:09:29.386 +0300</td>\n",
              "      <td>24.54054</td>\n",
              "      <td>46.784737</td>\n",
              "      <td>Mobile</td>\n",
              "      <td>4G</td>\n",
              "      <td>Operator C</td>\n",
              "      <td>2147483647</td>\n",
              "      <td>Enabled</td>\n",
              "      <td>HTC</td>\n",
              "      <td>Desire 728 Dual Sim</td>\n",
              "    </tr>\n",
              "    <tr>\n",
              "      <th>2</th>\n",
              "      <td>2019-11-02 00:10:45.323 +0300</td>\n",
              "      <td>24.54054</td>\n",
              "      <td>46.784737</td>\n",
              "      <td>Mobile</td>\n",
              "      <td>3G</td>\n",
              "      <td>Operator C</td>\n",
              "      <td>2147483647</td>\n",
              "      <td>Enabled</td>\n",
              "      <td>HTC</td>\n",
              "      <td>D728W</td>\n",
              "    </tr>\n",
              "    <tr>\n",
              "      <th>3</th>\n",
              "      <td>2019-11-02 00:10:45.323 +0300</td>\n",
              "      <td>24.54054</td>\n",
              "      <td>46.784737</td>\n",
              "      <td>Mobile</td>\n",
              "      <td>3G</td>\n",
              "      <td>Operator C</td>\n",
              "      <td>2147483647</td>\n",
              "      <td>Enabled</td>\n",
              "      <td>HTC</td>\n",
              "      <td>Desire 728 Dual Sim</td>\n",
              "    </tr>\n",
              "    <tr>\n",
              "      <th>4</th>\n",
              "      <td>2019-11-02 00:11:26.822 +0300</td>\n",
              "      <td>24.54054</td>\n",
              "      <td>46.784737</td>\n",
              "      <td>Mobile</td>\n",
              "      <td>4G</td>\n",
              "      <td>Operator C</td>\n",
              "      <td>2147483647</td>\n",
              "      <td>Enabled</td>\n",
              "      <td>HTC</td>\n",
              "      <td>D728W</td>\n",
              "    </tr>\n",
              "  </tbody>\n",
              "</table>\n",
              "</div>"
            ],
            "text/plain": [
              "                       Timestamp  ...           DeviceName\n",
              "0  2019-11-02 00:09:29.386 +0300  ...                D728W\n",
              "1  2019-11-02 00:09:29.386 +0300  ...  Desire 728 Dual Sim\n",
              "2  2019-11-02 00:10:45.323 +0300  ...                D728W\n",
              "3  2019-11-02 00:10:45.323 +0300  ...  Desire 728 Dual Sim\n",
              "4  2019-11-02 00:11:26.822 +0300  ...                D728W\n",
              "\n",
              "[5 rows x 10 columns]"
            ]
          },
          "metadata": {
            "tags": []
          },
          "execution_count": 24
        }
      ]
    },
    {
      "cell_type": "code",
      "metadata": {
        "colab": {
          "base_uri": "https://localhost:8080/"
        },
        "id": "qnwG5cyMfAn5",
        "outputId": "5b5700b9-0d4f-4816-9bab-4dadb75d0bbf"
      },
      "source": [
        "# let's further check RadioConnectionType column\n",
        "rsrp['RadioConnectionType'].value_counts()"
      ],
      "execution_count": null,
      "outputs": [
        {
          "output_type": "execute_result",
          "data": {
            "text/plain": [
              "Mobile     2717295\n",
              "WiFi          7390\n",
              "Unknown        668\n",
              "Name: RadioConnectionType, dtype: int64"
            ]
          },
          "metadata": {
            "tags": []
          },
          "execution_count": 25
        }
      ]
    },
    {
      "cell_type": "markdown",
      "metadata": {
        "id": "qQAll5BlfhdT"
      },
      "source": [
        "As we are concerned with 4G Mobile network performance so we can ignore reading related to WiFi and the unknown reading which both combined represent around 0.2% of the data"
      ]
    },
    {
      "cell_type": "code",
      "metadata": {
        "id": "Gjv9uBNpfVni"
      },
      "source": [
        "rsrp = rsrp[rsrp['RadioConnectionType'] == 'Mobile']"
      ],
      "execution_count": null,
      "outputs": []
    },
    {
      "cell_type": "markdown",
      "metadata": {
        "id": "hXCDpTQnitcD"
      },
      "source": [
        "Now we only Mobile as radioConnection type but let's confirm"
      ]
    },
    {
      "cell_type": "code",
      "metadata": {
        "colab": {
          "base_uri": "https://localhost:8080/"
        },
        "id": "duBBa6HcgZGn",
        "outputId": "7dcf3c2f-d32d-45a9-8566-8449865a7c92"
      },
      "source": [
        "rsrp['RadioConnectionType'].value_counts()"
      ],
      "execution_count": null,
      "outputs": [
        {
          "output_type": "execute_result",
          "data": {
            "text/plain": [
              "Mobile    2717295\n",
              "Name: RadioConnectionType, dtype: int64"
            ]
          },
          "metadata": {
            "tags": []
          },
          "execution_count": 36
        }
      ]
    },
    {
      "cell_type": "markdown",
      "metadata": {
        "id": "Fn3MrlmCjchW"
      },
      "source": [
        "Now as we have only 1 type of RadioConnectionType in the dataset which is Mobile we can remove this column entirely"
      ]
    },
    {
      "cell_type": "code",
      "metadata": {
        "id": "yE0-fa6Aglh_"
      },
      "source": [
        "rsrp = rsrp.drop(columns=\"RadioConnectionType\")"
      ],
      "execution_count": null,
      "outputs": []
    },
    {
      "cell_type": "code",
      "metadata": {
        "colab": {
          "base_uri": "https://localhost:8080/"
        },
        "id": "lK2q_j8Rj3aU",
        "outputId": "e1990480-8346-4b22-8597-f292b93cabde"
      },
      "source": [
        "rsrp.shape"
      ],
      "execution_count": null,
      "outputs": [
        {
          "output_type": "execute_result",
          "data": {
            "text/plain": [
              "(2717295, 9)"
            ]
          },
          "metadata": {
            "tags": []
          },
          "execution_count": 38
        }
      ]
    },
    {
      "cell_type": "markdown",
      "metadata": {
        "id": "pSi21J1_kOwW"
      },
      "source": [
        "Next let's examine **RadioNetworkGeneration** column"
      ]
    },
    {
      "cell_type": "code",
      "metadata": {
        "colab": {
          "base_uri": "https://localhost:8080/"
        },
        "id": "oZbwlXMjj5mB",
        "outputId": "6e69337c-a859-4815-a49b-c079622589b1"
      },
      "source": [
        "rsrp['RadioNetworkGeneration'].value_counts()"
      ],
      "execution_count": null,
      "outputs": [
        {
          "output_type": "execute_result",
          "data": {
            "text/plain": [
              "4G         2250976\n",
              "3G          443676\n",
              "Unknown      17322\n",
              "2G            5320\n",
              "WiFi             1\n",
              "Name: RadioNetworkGeneration, dtype: int64"
            ]
          },
          "metadata": {
            "tags": []
          },
          "execution_count": 39
        }
      ]
    },
    {
      "cell_type": "markdown",
      "metadata": {
        "id": "2gr3BixdktDd"
      },
      "source": [
        "First of all we need to highlight 2 points the first one is we are focusing on 4G KPIs and secondly RSRP is 4G measurement of coverage so If we checked 3G/2G rows we shouldn't find corresponding RSRP"
      ]
    },
    {
      "cell_type": "code",
      "metadata": {
        "colab": {
          "base_uri": "https://localhost:8080/"
        },
        "id": "BkojK04vkino",
        "outputId": "908b4d11-5e05-4146-bbf7-e967c7f8a046"
      },
      "source": [
        "rsrp[rsrp['RadioNetworkGeneration'] != '4G']['RSRP'].value_counts()"
      ],
      "execution_count": null,
      "outputs": [
        {
          "output_type": "execute_result",
          "data": {
            "text/plain": [
              " 2147483647    455192\n",
              "-86              1955\n",
              "-103              988\n",
              "-85               797\n",
              "-78               654\n",
              "                ...  \n",
              "-131                1\n",
              "-130                1\n",
              "-127                1\n",
              "-54                 1\n",
              "-1                  1\n",
              "Name: RSRP, Length: 85, dtype: int64"
            ]
          },
          "metadata": {
            "tags": []
          },
          "execution_count": 48
        }
      ]
    },
    {
      "cell_type": "code",
      "metadata": {
        "colab": {
          "base_uri": "https://localhost:8080/"
        },
        "id": "U25MTVzFlYkq",
        "outputId": "380a1de4-e89f-455e-9fce-0d4408d41e5e"
      },
      "source": [
        "rsrp[rsrp['RadioNetworkGeneration'] != '4G']['RSRP'].value_counts()[2147483647]/rsrp[rsrp['RadioNetworkGeneration'] != '4G']['RSRP'].count()"
      ],
      "execution_count": null,
      "outputs": [
        {
          "output_type": "execute_result",
          "data": {
            "text/plain": [
              "0.9761386518670695"
            ]
          },
          "metadata": {
            "tags": []
          },
          "execution_count": 49
        }
      ]
    },
    {
      "cell_type": "markdown",
      "metadata": {
        "id": "GGnqFOqKnY0J"
      },
      "source": [
        "As we can see above around 97.6% of the non 4G mobile readings reported RSRP of 2147483647 which is quite large. When we serached for this value we found it represents invalid values which is logic in case you don't use 4G(2G, 3G or Wifi is used)"
      ]
    },
    {
      "cell_type": "markdown",
      "metadata": {
        "id": "vfMHXsuuoTbs"
      },
      "source": [
        "Based on the above we can delete all non-4G observations to keep focusing on 4G KPIs"
      ]
    },
    {
      "cell_type": "code",
      "metadata": {
        "id": "RO6lyL6JmWcd"
      },
      "source": [
        "rsrp = rsrp[rsrp['RadioNetworkGeneration'] == '4G']"
      ],
      "execution_count": null,
      "outputs": []
    },
    {
      "cell_type": "code",
      "metadata": {
        "colab": {
          "base_uri": "https://localhost:8080/"
        },
        "id": "uLND80RsorG6",
        "outputId": "5ebc3d15-b134-4f9c-9ec3-889c8e829588"
      },
      "source": [
        "rsrp['RadioNetworkGeneration'].value_counts()"
      ],
      "execution_count": null,
      "outputs": [
        {
          "output_type": "execute_result",
          "data": {
            "text/plain": [
              "4G    2250976\n",
              "Name: RadioNetworkGeneration, dtype: int64"
            ]
          },
          "metadata": {
            "tags": []
          },
          "execution_count": 54
        }
      ]
    },
    {
      "cell_type": "markdown",
      "metadata": {
        "id": "a11-1a_SpaWF"
      },
      "source": [
        "Now as we have only 1 type of RadioNetworkGeneration in the dataset which is 4G we can remove the entire column"
      ]
    },
    {
      "cell_type": "code",
      "metadata": {
        "id": "Z7HnjUT2o-ts"
      },
      "source": [
        "rsrp = rsrp.drop(columns=\"RadioNetworkGeneration\")"
      ],
      "execution_count": null,
      "outputs": []
    },
    {
      "cell_type": "code",
      "metadata": {
        "colab": {
          "base_uri": "https://localhost:8080/"
        },
        "id": "QlUIDOxrpqpk",
        "outputId": "1b07d739-f2fb-48bb-be6a-603f7525279e"
      },
      "source": [
        "rsrp.shape"
      ],
      "execution_count": null,
      "outputs": [
        {
          "output_type": "execute_result",
          "data": {
            "text/plain": [
              "(2250976, 8)"
            ]
          },
          "metadata": {
            "tags": []
          },
          "execution_count": 56
        }
      ]
    },
    {
      "cell_type": "code",
      "metadata": {
        "colab": {
          "base_uri": "https://localhost:8080/",
          "height": 293
        },
        "id": "BaESpXP1psVv",
        "outputId": "97f09fc2-64ad-47ff-8da3-64ed929c0e7e"
      },
      "source": [
        "rsrp.head()"
      ],
      "execution_count": null,
      "outputs": [
        {
          "output_type": "execute_result",
          "data": {
            "text/html": [
              "<div>\n",
              "<style scoped>\n",
              "    .dataframe tbody tr th:only-of-type {\n",
              "        vertical-align: middle;\n",
              "    }\n",
              "\n",
              "    .dataframe tbody tr th {\n",
              "        vertical-align: top;\n",
              "    }\n",
              "\n",
              "    .dataframe thead th {\n",
              "        text-align: right;\n",
              "    }\n",
              "</style>\n",
              "<table border=\"1\" class=\"dataframe\">\n",
              "  <thead>\n",
              "    <tr style=\"text-align: right;\">\n",
              "      <th></th>\n",
              "      <th>Timestamp</th>\n",
              "      <th>LocationLatitude</th>\n",
              "      <th>LocationLongitude</th>\n",
              "      <th>RadioOperatorName</th>\n",
              "      <th>RSRP</th>\n",
              "      <th>RadioMobileDataEnabled</th>\n",
              "      <th>DeviceManufacturer</th>\n",
              "      <th>DeviceName</th>\n",
              "    </tr>\n",
              "  </thead>\n",
              "  <tbody>\n",
              "    <tr>\n",
              "      <th>0</th>\n",
              "      <td>2019-11-02 00:09:29.386 +0300</td>\n",
              "      <td>24.54054</td>\n",
              "      <td>46.784737</td>\n",
              "      <td>Operator C</td>\n",
              "      <td>2147483647</td>\n",
              "      <td>Enabled</td>\n",
              "      <td>HTC</td>\n",
              "      <td>D728W</td>\n",
              "    </tr>\n",
              "    <tr>\n",
              "      <th>1</th>\n",
              "      <td>2019-11-02 00:09:29.386 +0300</td>\n",
              "      <td>24.54054</td>\n",
              "      <td>46.784737</td>\n",
              "      <td>Operator C</td>\n",
              "      <td>2147483647</td>\n",
              "      <td>Enabled</td>\n",
              "      <td>HTC</td>\n",
              "      <td>Desire 728 Dual Sim</td>\n",
              "    </tr>\n",
              "    <tr>\n",
              "      <th>4</th>\n",
              "      <td>2019-11-02 00:11:26.822 +0300</td>\n",
              "      <td>24.54054</td>\n",
              "      <td>46.784737</td>\n",
              "      <td>Operator C</td>\n",
              "      <td>2147483647</td>\n",
              "      <td>Enabled</td>\n",
              "      <td>HTC</td>\n",
              "      <td>D728W</td>\n",
              "    </tr>\n",
              "    <tr>\n",
              "      <th>5</th>\n",
              "      <td>2019-11-02 00:11:26.822 +0300</td>\n",
              "      <td>24.54054</td>\n",
              "      <td>46.784737</td>\n",
              "      <td>Operator C</td>\n",
              "      <td>2147483647</td>\n",
              "      <td>Enabled</td>\n",
              "      <td>HTC</td>\n",
              "      <td>Desire 728 Dual Sim</td>\n",
              "    </tr>\n",
              "    <tr>\n",
              "      <th>30</th>\n",
              "      <td>2019-11-02 00:30:18.278 +0300</td>\n",
              "      <td>24.54054</td>\n",
              "      <td>46.784737</td>\n",
              "      <td>Operator C</td>\n",
              "      <td>2147483647</td>\n",
              "      <td>Enabled</td>\n",
              "      <td>HTC</td>\n",
              "      <td>D728W</td>\n",
              "    </tr>\n",
              "  </tbody>\n",
              "</table>\n",
              "</div>"
            ],
            "text/plain": [
              "                        Timestamp  ...           DeviceName\n",
              "0   2019-11-02 00:09:29.386 +0300  ...                D728W\n",
              "1   2019-11-02 00:09:29.386 +0300  ...  Desire 728 Dual Sim\n",
              "4   2019-11-02 00:11:26.822 +0300  ...                D728W\n",
              "5   2019-11-02 00:11:26.822 +0300  ...  Desire 728 Dual Sim\n",
              "30  2019-11-02 00:30:18.278 +0300  ...                D728W\n",
              "\n",
              "[5 rows x 8 columns]"
            ]
          },
          "metadata": {
            "tags": []
          },
          "execution_count": 59
        }
      ]
    },
    {
      "cell_type": "markdown",
      "metadata": {
        "id": "R7Ow0164qxZH"
      },
      "source": [
        "Now we can check the different operators we have in the dataset"
      ]
    },
    {
      "cell_type": "code",
      "metadata": {
        "colab": {
          "base_uri": "https://localhost:8080/"
        },
        "id": "Ulk7s9Yspu4I",
        "outputId": "bd122187-e63a-4bea-b5f8-53ea51260e24"
      },
      "source": [
        "rsrp['RadioOperatorName'].value_counts()"
      ],
      "execution_count": null,
      "outputs": [
        {
          "output_type": "execute_result",
          "data": {
            "text/plain": [
              "Operator A    1180110\n",
              "Operator C     544389\n",
              "Operator B     526477\n",
              "Name: RadioOperatorName, dtype: int64"
            ]
          },
          "metadata": {
            "tags": []
          },
          "execution_count": 61
        }
      ]
    },
    {
      "cell_type": "markdown",
      "metadata": {
        "id": "MxzXPGfMrZwb"
      },
      "source": [
        "The different Manufacturers are as below"
      ]
    },
    {
      "cell_type": "code",
      "metadata": {
        "colab": {
          "base_uri": "https://localhost:8080/",
          "height": 334
        },
        "id": "wvBiN8xOq8jP",
        "outputId": "4492814b-0a3c-43d8-f418-be68c066a67d"
      },
      "source": [
        "cntplot = sns.countplot(x=\"DeviceManufacturer\", data=rsrp)\n",
        "cntplot.set_xticklabels(cntplot.get_xticklabels(), rotation=45, horizontalalignment='right')\n",
        "cntplot.set_title('Handset Vendors')\n",
        "plt.show()"
      ],
      "execution_count": null,
      "outputs": [
        {
          "output_type": "display_data",
          "data": {
            "image/png": "[encoded data removed]",
            "text/plain": [
              "<Figure size 432x288 with 1 Axes>"
            ]
          },
          "metadata": {
            "tags": [],
            "needs_background": "light"
          }
        }
      ]
    },
    {
      "cell_type": "markdown",
      "metadata": {
        "id": "sUIQO-o_t4wI"
      },
      "source": [
        "Most of the handsets are samsung"
      ]
    },
    {
      "cell_type": "markdown",
      "metadata": {
        "id": "DTeLy2z1uNkt"
      },
      "source": [
        "## **Missing vaules checking**"
      ]
    },
    {
      "cell_type": "code",
      "metadata": {
        "colab": {
          "base_uri": "https://localhost:8080/",
          "height": 300
        },
        "id": "4U3gTyW0rq6x",
        "outputId": "4d471efb-2341-4b4c-e729-3f841c0de91a"
      },
      "source": [
        "#We will find the percentage of null values compared to total values for each column\n",
        "rsrp_percent = 100 * rsrp.isnull().sum() / len(rsrp)\n",
        "#We will formulate train_percent into dataframe\n",
        "rsrp_percent = rsrp_percent.to_frame().reset_index()\n",
        "#We will rename the columns\n",
        "rsrp_percent.columns= [\"Feature\",\"Null Percentage\"]\n",
        "#Finally let's sort the percentage from higher to lower\n",
        "rsrp_percent.sort_values(by=['Null Percentage'],ascending=False)"
      ],
      "execution_count": null,
      "outputs": [
        {
          "output_type": "execute_result",
          "data": {
            "text/html": [
              "<div>\n",
              "<style scoped>\n",
              "    .dataframe tbody tr th:only-of-type {\n",
              "        vertical-align: middle;\n",
              "    }\n",
              "\n",
              "    .dataframe tbody tr th {\n",
              "        vertical-align: top;\n",
              "    }\n",
              "\n",
              "    .dataframe thead th {\n",
              "        text-align: right;\n",
              "    }\n",
              "</style>\n",
              "<table border=\"1\" class=\"dataframe\">\n",
              "  <thead>\n",
              "    <tr style=\"text-align: right;\">\n",
              "      <th></th>\n",
              "      <th>Feature</th>\n",
              "      <th>Null Percentage</th>\n",
              "    </tr>\n",
              "  </thead>\n",
              "  <tbody>\n",
              "    <tr>\n",
              "      <th>0</th>\n",
              "      <td>Timestamp</td>\n",
              "      <td>0.0</td>\n",
              "    </tr>\n",
              "    <tr>\n",
              "      <th>1</th>\n",
              "      <td>LocationLatitude</td>\n",
              "      <td>0.0</td>\n",
              "    </tr>\n",
              "    <tr>\n",
              "      <th>2</th>\n",
              "      <td>LocationLongitude</td>\n",
              "      <td>0.0</td>\n",
              "    </tr>\n",
              "    <tr>\n",
              "      <th>3</th>\n",
              "      <td>RadioOperatorName</td>\n",
              "      <td>0.0</td>\n",
              "    </tr>\n",
              "    <tr>\n",
              "      <th>4</th>\n",
              "      <td>RSRP</td>\n",
              "      <td>0.0</td>\n",
              "    </tr>\n",
              "    <tr>\n",
              "      <th>5</th>\n",
              "      <td>RadioMobileDataEnabled</td>\n",
              "      <td>0.0</td>\n",
              "    </tr>\n",
              "    <tr>\n",
              "      <th>6</th>\n",
              "      <td>DeviceManufacturer</td>\n",
              "      <td>0.0</td>\n",
              "    </tr>\n",
              "    <tr>\n",
              "      <th>7</th>\n",
              "      <td>DeviceName</td>\n",
              "      <td>0.0</td>\n",
              "    </tr>\n",
              "  </tbody>\n",
              "</table>\n",
              "</div>"
            ],
            "text/plain": [
              "                  Feature  Null Percentage\n",
              "0               Timestamp              0.0\n",
              "1        LocationLatitude              0.0\n",
              "2       LocationLongitude              0.0\n",
              "3       RadioOperatorName              0.0\n",
              "4                    RSRP              0.0\n",
              "5  RadioMobileDataEnabled              0.0\n",
              "6      DeviceManufacturer              0.0\n",
              "7              DeviceName              0.0"
            ]
          },
          "metadata": {
            "tags": []
          },
          "execution_count": 70
        }
      ]
    },
    {
      "cell_type": "markdown",
      "metadata": {
        "id": "slV7XyKEu6uq"
      },
      "source": [
        "We don't have Null values for any of the remaining 8 columns; However, we can further check If we have anomalies in the continious features we have."
      ]
    },
    {
      "cell_type": "markdown",
      "metadata": {
        "id": "8IevLkH4vaoR"
      },
      "source": [
        "## **Continuous variables exploration**"
      ]
    },
    {
      "cell_type": "code",
      "metadata": {
        "colab": {
          "base_uri": "https://localhost:8080/",
          "height": 300
        },
        "id": "V3MUsT9IuuUP",
        "outputId": "12498930-73bb-4f05-b671-049060f09810"
      },
      "source": [
        "pd.set_option('float_format', '{:f}'.format)\n",
        "rsrp.describe()"
      ],
      "execution_count": null,
      "outputs": [
        {
          "output_type": "execute_result",
          "data": {
            "text/html": [
              "<div>\n",
              "<style scoped>\n",
              "    .dataframe tbody tr th:only-of-type {\n",
              "        vertical-align: middle;\n",
              "    }\n",
              "\n",
              "    .dataframe tbody tr th {\n",
              "        vertical-align: top;\n",
              "    }\n",
              "\n",
              "    .dataframe thead th {\n",
              "        text-align: right;\n",
              "    }\n",
              "</style>\n",
              "<table border=\"1\" class=\"dataframe\">\n",
              "  <thead>\n",
              "    <tr style=\"text-align: right;\">\n",
              "      <th></th>\n",
              "      <th>LocationLatitude</th>\n",
              "      <th>LocationLongitude</th>\n",
              "      <th>RSRP</th>\n",
              "    </tr>\n",
              "  </thead>\n",
              "  <tbody>\n",
              "    <tr>\n",
              "      <th>count</th>\n",
              "      <td>2250976.000000</td>\n",
              "      <td>2250976.000000</td>\n",
              "      <td>2250976.000000</td>\n",
              "    </tr>\n",
              "    <tr>\n",
              "      <th>mean</th>\n",
              "      <td>24.696788</td>\n",
              "      <td>46.713296</td>\n",
              "      <td>178098908.472163</td>\n",
              "    </tr>\n",
              "    <tr>\n",
              "      <th>std</th>\n",
              "      <td>0.092889</td>\n",
              "      <td>0.073104</td>\n",
              "      <td>592237784.782480</td>\n",
              "    </tr>\n",
              "    <tr>\n",
              "      <th>min</th>\n",
              "      <td>24.434656</td>\n",
              "      <td>46.356922</td>\n",
              "      <td>-140.000000</td>\n",
              "    </tr>\n",
              "    <tr>\n",
              "      <th>25%</th>\n",
              "      <td>24.603823</td>\n",
              "      <td>46.673850</td>\n",
              "      <td>-92.000000</td>\n",
              "    </tr>\n",
              "    <tr>\n",
              "      <th>50%</th>\n",
              "      <td>24.697622</td>\n",
              "      <td>46.707220</td>\n",
              "      <td>-82.000000</td>\n",
              "    </tr>\n",
              "    <tr>\n",
              "      <th>75%</th>\n",
              "      <td>24.769081</td>\n",
              "      <td>46.759743</td>\n",
              "      <td>-72.000000</td>\n",
              "    </tr>\n",
              "    <tr>\n",
              "      <th>max</th>\n",
              "      <td>25.036217</td>\n",
              "      <td>47.180670</td>\n",
              "      <td>2147483647.000000</td>\n",
              "    </tr>\n",
              "  </tbody>\n",
              "</table>\n",
              "</div>"
            ],
            "text/plain": [
              "       LocationLatitude  LocationLongitude              RSRP\n",
              "count    2250976.000000     2250976.000000    2250976.000000\n",
              "mean          24.696788          46.713296  178098908.472163\n",
              "std            0.092889           0.073104  592237784.782480\n",
              "min           24.434656          46.356922       -140.000000\n",
              "25%           24.603823          46.673850        -92.000000\n",
              "50%           24.697622          46.707220        -82.000000\n",
              "75%           24.769081          46.759743        -72.000000\n",
              "max           25.036217          47.180670 2147483647.000000"
            ]
          },
          "metadata": {
            "tags": []
          },
          "execution_count": 72
        }
      ]
    },
    {
      "cell_type": "markdown",
      "metadata": {
        "id": "rXiHx1ccwYmv"
      },
      "source": [
        "For **LocationLatitude** and **LocationLongitude** the values seem to be normal unlike **RSRP** values which have minimum value of -140 which is accpetable and maximum value of 2147483647 which is discussed earlier represent invalid value so let's investigate this column more"
      ]
    },
    {
      "cell_type": "code",
      "metadata": {
        "colab": {
          "base_uri": "https://localhost:8080/"
        },
        "id": "I5W49iu7vvY2",
        "outputId": "7c0d1c01-a2e9-4b75-d11e-e0f65d962e5b"
      },
      "source": [
        "rsrp['RSRP'].value_counts()"
      ],
      "execution_count": null,
      "outputs": [
        {
          "output_type": "execute_result",
          "data": {
            "text/plain": [
              " 2147483647    186682\n",
              "-107           103067\n",
              "-83             97690\n",
              "-71             91855\n",
              "-79             63922\n",
              "                ...  \n",
              "-135                1\n",
              "-136                1\n",
              "-138                1\n",
              " 12                 1\n",
              "-1                  1\n",
              "Name: RSRP, Length: 99, dtype: int64"
            ]
          },
          "metadata": {
            "tags": []
          },
          "execution_count": 76
        }
      ]
    },
    {
      "cell_type": "code",
      "metadata": {
        "colab": {
          "base_uri": "https://localhost:8080/"
        },
        "id": "W088Bez3xECg",
        "outputId": "7961d7de-9cfa-4b18-ceab-700210ae9d93"
      },
      "source": [
        "rsrp['RSRP'].value_counts()[2147483647]/rsrp['RSRP'].count()"
      ],
      "execution_count": null,
      "outputs": [
        {
          "output_type": "execute_result",
          "data": {
            "text/plain": [
              "0.08293380293703709"
            ]
          },
          "metadata": {
            "tags": []
          },
          "execution_count": 78
        }
      ]
    },
    {
      "cell_type": "markdown",
      "metadata": {
        "id": "KN0PCmzyyXCs"
      },
      "source": [
        "As we can see around 8% of RSRP values are invalid (value is 2147483647) but we noticed that sometimes RSRP value is 12 which is invalid as well so we need to know how often the value of RSRP are invalid and wasn't set as 2147483647"
      ]
    },
    {
      "cell_type": "code",
      "metadata": {
        "colab": {
          "base_uri": "https://localhost:8080/",
          "height": 597
        },
        "id": "dEWoftXGxiFY",
        "outputId": "bf80aaa5-c6cb-41b8-fdb5-71b2b1e61bb1"
      },
      "source": [
        "rsrp[(rsrp['RSRP'] > -40) & (rsrp['RSRP'] != 2147483647)]"
      ],
      "execution_count": null,
      "outputs": [
        {
          "output_type": "execute_result",
          "data": {
            "text/html": [
              "<div>\n",
              "<style scoped>\n",
              "    .dataframe tbody tr th:only-of-type {\n",
              "        vertical-align: middle;\n",
              "    }\n",
              "\n",
              "    .dataframe tbody tr th {\n",
              "        vertical-align: top;\n",
              "    }\n",
              "\n",
              "    .dataframe thead th {\n",
              "        text-align: right;\n",
              "    }\n",
              "</style>\n",
              "<table border=\"1\" class=\"dataframe\">\n",
              "  <thead>\n",
              "    <tr style=\"text-align: right;\">\n",
              "      <th></th>\n",
              "      <th>Timestamp</th>\n",
              "      <th>LocationLatitude</th>\n",
              "      <th>LocationLongitude</th>\n",
              "      <th>RadioOperatorName</th>\n",
              "      <th>RSRP</th>\n",
              "      <th>RadioMobileDataEnabled</th>\n",
              "      <th>DeviceManufacturer</th>\n",
              "      <th>DeviceName</th>\n",
              "    </tr>\n",
              "  </thead>\n",
              "  <tbody>\n",
              "    <tr>\n",
              "      <th>9835</th>\n",
              "      <td>2019-11-02 14:22:30.111 +0300</td>\n",
              "      <td>24.831696</td>\n",
              "      <td>46.609013</td>\n",
              "      <td>Operator A</td>\n",
              "      <td>0</td>\n",
              "      <td>Enabled</td>\n",
              "      <td>HUAWEI</td>\n",
              "      <td>Y6Ii</td>\n",
              "    </tr>\n",
              "    <tr>\n",
              "      <th>9842</th>\n",
              "      <td>2019-11-02 14:23:09.043 +0300</td>\n",
              "      <td>24.831696</td>\n",
              "      <td>46.608990</td>\n",
              "      <td>Operator A</td>\n",
              "      <td>0</td>\n",
              "      <td>Enabled</td>\n",
              "      <td>HUAWEI</td>\n",
              "      <td>Y6Ii</td>\n",
              "    </tr>\n",
              "    <tr>\n",
              "      <th>9843</th>\n",
              "      <td>2019-11-02 14:23:10.047 +0300</td>\n",
              "      <td>24.831696</td>\n",
              "      <td>46.608990</td>\n",
              "      <td>Operator A</td>\n",
              "      <td>0</td>\n",
              "      <td>Enabled</td>\n",
              "      <td>HUAWEI</td>\n",
              "      <td>Y6Ii</td>\n",
              "    </tr>\n",
              "    <tr>\n",
              "      <th>9844</th>\n",
              "      <td>2019-11-02 14:23:15.007 +0300</td>\n",
              "      <td>24.831718</td>\n",
              "      <td>46.608960</td>\n",
              "      <td>Operator A</td>\n",
              "      <td>0</td>\n",
              "      <td>Enabled</td>\n",
              "      <td>HUAWEI</td>\n",
              "      <td>Y6Ii</td>\n",
              "    </tr>\n",
              "    <tr>\n",
              "      <th>9846</th>\n",
              "      <td>2019-11-02 14:23:36.039 +0300</td>\n",
              "      <td>24.832392</td>\n",
              "      <td>46.610115</td>\n",
              "      <td>Operator A</td>\n",
              "      <td>0</td>\n",
              "      <td>Enabled</td>\n",
              "      <td>HUAWEI</td>\n",
              "      <td>Y6Ii</td>\n",
              "    </tr>\n",
              "    <tr>\n",
              "      <th>...</th>\n",
              "      <td>...</td>\n",
              "      <td>...</td>\n",
              "      <td>...</td>\n",
              "      <td>...</td>\n",
              "      <td>...</td>\n",
              "      <td>...</td>\n",
              "      <td>...</td>\n",
              "      <td>...</td>\n",
              "    </tr>\n",
              "    <tr>\n",
              "      <th>2716148</th>\n",
              "      <td>2019-11-03 16:59:34.031 +0300</td>\n",
              "      <td>24.664839</td>\n",
              "      <td>46.732090</td>\n",
              "      <td>Operator A</td>\n",
              "      <td>0</td>\n",
              "      <td>Enabled</td>\n",
              "      <td>HUAWEI</td>\n",
              "      <td>Y6Ii</td>\n",
              "    </tr>\n",
              "    <tr>\n",
              "      <th>2716149</th>\n",
              "      <td>2019-11-03 16:59:54.026 +0300</td>\n",
              "      <td>24.664122</td>\n",
              "      <td>46.733006</td>\n",
              "      <td>Operator A</td>\n",
              "      <td>0</td>\n",
              "      <td>Enabled</td>\n",
              "      <td>HUAWEI</td>\n",
              "      <td>Y6Ii</td>\n",
              "    </tr>\n",
              "    <tr>\n",
              "      <th>2716150</th>\n",
              "      <td>2019-11-03 16:59:56.021 +0300</td>\n",
              "      <td>24.664045</td>\n",
              "      <td>46.733050</td>\n",
              "      <td>Operator A</td>\n",
              "      <td>0</td>\n",
              "      <td>Enabled</td>\n",
              "      <td>HUAWEI</td>\n",
              "      <td>Y6Ii</td>\n",
              "    </tr>\n",
              "    <tr>\n",
              "      <th>2716151</th>\n",
              "      <td>2019-11-03 17:00:00.027 +0300</td>\n",
              "      <td>24.663939</td>\n",
              "      <td>46.733112</td>\n",
              "      <td>Operator A</td>\n",
              "      <td>0</td>\n",
              "      <td>Enabled</td>\n",
              "      <td>HUAWEI</td>\n",
              "      <td>Y6Ii</td>\n",
              "    </tr>\n",
              "    <tr>\n",
              "      <th>2716152</th>\n",
              "      <td>2019-11-03 17:00:02.019 +0300</td>\n",
              "      <td>24.663914</td>\n",
              "      <td>46.733120</td>\n",
              "      <td>Operator A</td>\n",
              "      <td>0</td>\n",
              "      <td>Enabled</td>\n",
              "      <td>HUAWEI</td>\n",
              "      <td>Y6Ii</td>\n",
              "    </tr>\n",
              "  </tbody>\n",
              "</table>\n",
              "<p>431 rows × 8 columns</p>\n",
              "</div>"
            ],
            "text/plain": [
              "                             Timestamp  ...  DeviceName\n",
              "9835     2019-11-02 14:22:30.111 +0300  ...        Y6Ii\n",
              "9842     2019-11-02 14:23:09.043 +0300  ...        Y6Ii\n",
              "9843     2019-11-02 14:23:10.047 +0300  ...        Y6Ii\n",
              "9844     2019-11-02 14:23:15.007 +0300  ...        Y6Ii\n",
              "9846     2019-11-02 14:23:36.039 +0300  ...        Y6Ii\n",
              "...                                ...  ...         ...\n",
              "2716148  2019-11-03 16:59:34.031 +0300  ...        Y6Ii\n",
              "2716149  2019-11-03 16:59:54.026 +0300  ...        Y6Ii\n",
              "2716150  2019-11-03 16:59:56.021 +0300  ...        Y6Ii\n",
              "2716151  2019-11-03 17:00:00.027 +0300  ...        Y6Ii\n",
              "2716152  2019-11-03 17:00:02.019 +0300  ...        Y6Ii\n",
              "\n",
              "[431 rows x 8 columns]"
            ]
          },
          "metadata": {
            "tags": []
          },
          "execution_count": 81
        }
      ]
    },
    {
      "cell_type": "markdown",
      "metadata": {
        "id": "pRrkivjlzVGF"
      },
      "source": [
        "Only 431 observations and we can observe that most of them are for Huawei Y6li so let's confirm this point"
      ]
    },
    {
      "cell_type": "code",
      "metadata": {
        "colab": {
          "base_uri": "https://localhost:8080/"
        },
        "id": "FNb0n5Bpy6pS",
        "outputId": "d75204bd-e63a-475f-af5f-46e10f5bde8b"
      },
      "source": [
        "rsrp[(rsrp['RSRP'] > -40) & (rsrp['RSRP'] != 2147483647)]['DeviceName'].value_counts()"
      ],
      "execution_count": null,
      "outputs": [
        {
          "output_type": "execute_result",
          "data": {
            "text/plain": [
              "Y6Ii               426\n",
              "Mate 7               3\n",
              "Huawei P30 Lite      1\n",
              "Droid Turbo 2        1\n",
              "Name: DeviceName, dtype: int64"
            ]
          },
          "metadata": {
            "tags": []
          },
          "execution_count": 83
        }
      ]
    },
    {
      "cell_type": "markdown",
      "metadata": {
        "id": "SabXhNEA0J59"
      },
      "source": [
        "Almost all the obervations are related to Y6li so this is possibly due to malfunction in the device in the certain scenario and as number of observations are very low we can remove them."
      ]
    },
    {
      "cell_type": "code",
      "metadata": {
        "id": "ztWja-810DF0"
      },
      "source": [
        "rsrp = rsrp[(rsrp['RSRP'] <= -40) | (rsrp['RSRP'] == 2147483647)]"
      ],
      "execution_count": null,
      "outputs": []
    },
    {
      "cell_type": "code",
      "metadata": {
        "colab": {
          "base_uri": "https://localhost:8080/"
        },
        "id": "PtXPcy7n02aE",
        "outputId": "c71ac912-f995-46e6-940c-923cd5b904e0"
      },
      "source": [
        "rsrp.shape"
      ],
      "execution_count": null,
      "outputs": [
        {
          "output_type": "execute_result",
          "data": {
            "text/plain": [
              "(2250545, 8)"
            ]
          },
          "metadata": {
            "tags": []
          },
          "execution_count": 89
        }
      ]
    },
    {
      "cell_type": "code",
      "metadata": {
        "colab": {
          "base_uri": "https://localhost:8080/",
          "height": 49
        },
        "id": "VYWryE2n0yYl",
        "outputId": "c71bce9b-6ea4-42d9-d100-cdce707ca672"
      },
      "source": [
        "rsrp[(rsrp['RSRP'] > -40) & (rsrp['RSRP'] != 2147483647)]"
      ],
      "execution_count": null,
      "outputs": [
        {
          "output_type": "execute_result",
          "data": {
            "text/html": [
              "<div>\n",
              "<style scoped>\n",
              "    .dataframe tbody tr th:only-of-type {\n",
              "        vertical-align: middle;\n",
              "    }\n",
              "\n",
              "    .dataframe tbody tr th {\n",
              "        vertical-align: top;\n",
              "    }\n",
              "\n",
              "    .dataframe thead th {\n",
              "        text-align: right;\n",
              "    }\n",
              "</style>\n",
              "<table border=\"1\" class=\"dataframe\">\n",
              "  <thead>\n",
              "    <tr style=\"text-align: right;\">\n",
              "      <th></th>\n",
              "      <th>Timestamp</th>\n",
              "      <th>LocationLatitude</th>\n",
              "      <th>LocationLongitude</th>\n",
              "      <th>RadioOperatorName</th>\n",
              "      <th>RSRP</th>\n",
              "      <th>RadioMobileDataEnabled</th>\n",
              "      <th>DeviceManufacturer</th>\n",
              "      <th>DeviceName</th>\n",
              "    </tr>\n",
              "  </thead>\n",
              "  <tbody>\n",
              "  </tbody>\n",
              "</table>\n",
              "</div>"
            ],
            "text/plain": [
              "Empty DataFrame\n",
              "Columns: [Timestamp, LocationLatitude, LocationLongitude, RadioOperatorName, RSRP, RadioMobileDataEnabled, DeviceManufacturer, DeviceName]\n",
              "Index: []"
            ]
          },
          "metadata": {
            "tags": []
          },
          "execution_count": 88
        }
      ]
    },
    {
      "cell_type": "markdown",
      "metadata": {
        "id": "_UGTLLAY1Mle"
      },
      "source": [
        "Now the only invalid value for RSRP is **2147483647** so let's first before deciding what to do with these observation check whether it is related to certain vendor or handset type."
      ]
    },
    {
      "cell_type": "code",
      "metadata": {
        "colab": {
          "base_uri": "https://localhost:8080/"
        },
        "id": "CADqUtQY1_3Q",
        "outputId": "d948f167-eab0-422b-83d3-49d322a1e0c2"
      },
      "source": [
        "rsrp['RSRP'].value_counts()"
      ],
      "execution_count": null,
      "outputs": [
        {
          "output_type": "execute_result",
          "data": {
            "text/plain": [
              " 2147483647    186682\n",
              "-107           103067\n",
              "-83             97690\n",
              "-71             91855\n",
              "-79             63922\n",
              "                ...  \n",
              "-132                3\n",
              "-45                 3\n",
              "-135                1\n",
              "-136                1\n",
              "-138                1\n",
              "Name: RSRP, Length: 96, dtype: int64"
            ]
          },
          "metadata": {
            "tags": []
          },
          "execution_count": 90
        }
      ]
    },
    {
      "cell_type": "code",
      "metadata": {
        "colab": {
          "base_uri": "https://localhost:8080/"
        },
        "id": "epqABIZx2DiS",
        "outputId": "dbacbfa2-e3a9-46fa-ee23-1a9eb6a92199"
      },
      "source": [
        "rsrp[rsrp['RSRP'] == 2147483647]['DeviceManufacturer'].value_counts()"
      ],
      "execution_count": null,
      "outputs": [
        {
          "output_type": "execute_result",
          "data": {
            "text/plain": [
              "samsung       173919\n",
              "motorola        3979\n",
              "LENOVO          2466\n",
              "lenovo          2353\n",
              "HUAWEI          1385\n",
              "HTC              820\n",
              "HMD Global       567\n",
              "LGE              476\n",
              "Xiaomi           223\n",
              "OPPO             144\n",
              "Lenovo           104\n",
              "TCL               68\n",
              "vivo              67\n",
              "htc               40\n",
              "Sony              25\n",
              "PANASONIC         14\n",
              "Infinix            8\n",
              "OBI                8\n",
              "QMobile            8\n",
              "Realme             6\n",
              "SHARP              2\n",
              "Name: DeviceManufacturer, dtype: int64"
            ]
          },
          "metadata": {
            "tags": []
          },
          "execution_count": 97
        }
      ]
    },
    {
      "cell_type": "code",
      "metadata": {
        "colab": {
          "base_uri": "https://localhost:8080/"
        },
        "id": "DMp_X77s2JlT",
        "outputId": "fa8fb2ec-1bc0-44cb-cdf0-d7ed3caa5a8e"
      },
      "source": [
        "rsrp[rsrp['RSRP'] == 2147483647]['DeviceName'].value_counts()"
      ],
      "execution_count": null,
      "outputs": [
        {
          "output_type": "execute_result",
          "data": {
            "text/plain": [
              "Galaxy Note4        20902\n",
              "Galaxy A7(2017)     15251\n",
              "Galaxy On7 Prime    14574\n",
              "Galaxy J3(2016)     12787\n",
              "Galaxy J7 Prime     11919\n",
              "                    ...  \n",
              "P8 Lite                 1\n",
              "Honor View20            1\n",
              "Galaxy Note10           1\n",
              "Huawei Gr5 2017         1\n",
              "Mi Max 2                1\n",
              "Name: DeviceName, Length: 213, dtype: int64"
            ]
          },
          "metadata": {
            "tags": []
          },
          "execution_count": 98
        }
      ]
    },
    {
      "cell_type": "markdown",
      "metadata": {
        "id": "QnL_aeYv3s16"
      },
      "source": [
        "The invalid value isn't related to a certain handset type so in order to make visualizations more definitive and also to avoid putting such huge outlier while training certain ML model we can remove these observations(around 8% of the data) noting that we can impute these values with KNN, median or any other method but for simplcity let's remove these rows."
      ]
    },
    {
      "cell_type": "code",
      "metadata": {
        "id": "RBLh1JjP2Uwz"
      },
      "source": [
        "rsrp = rsrp[rsrp['RSRP'] != 2147483647]"
      ],
      "execution_count": null,
      "outputs": []
    },
    {
      "cell_type": "code",
      "metadata": {
        "colab": {
          "base_uri": "https://localhost:8080/"
        },
        "id": "bTYMcIAG4ddP",
        "outputId": "6a829c27-1eb1-4430-e1b2-e761922349b1"
      },
      "source": [
        "rsrp.shape"
      ],
      "execution_count": null,
      "outputs": [
        {
          "output_type": "execute_result",
          "data": {
            "text/plain": [
              "(2063863, 8)"
            ]
          },
          "metadata": {
            "tags": []
          },
          "execution_count": 103
        }
      ]
    },
    {
      "cell_type": "markdown",
      "metadata": {
        "id": "-EETxAMq4nj_"
      },
      "source": [
        "Now we can say **rsrp** dataset is ready for data visualization step in addition to ML modeling. Although **Timestamp** column is in string format and may need more preprocessing later, we will leave it as it is for now and use Tableau for conversion to date in case of data visualization."
      ]
    },
    {
      "cell_type": "markdown",
      "metadata": {
        "id": "cOVSOK9F5x15"
      },
      "source": [
        "## **Saving rsrp dataframe to CSV**"
      ]
    },
    {
      "cell_type": "code",
      "metadata": {
        "id": "fvbYnpCp4k09"
      },
      "source": [
        "rsrp.to_csv('/content/gdrive/My Drive/Ericsson_DS_challenge/RSRP_processed.csv',index = False)"
      ],
      "execution_count": null,
      "outputs": []
    },
    {
      "cell_type": "markdown",
      "metadata": {
        "id": "v8zgwL86NmH-"
      },
      "source": [
        "# **TrafficVolume Exploration and cleaning**"
      ]
    },
    {
      "cell_type": "markdown",
      "metadata": {
        "id": "CfXbU_Z1Nzux"
      },
      "source": [
        "First let's check how many observations and features for the dataset"
      ]
    },
    {
      "cell_type": "code",
      "metadata": {
        "id": "Rgy9uzVA6K1m",
        "colab": {
          "base_uri": "https://localhost:8080/"
        },
        "outputId": "21f71cee-35f9-4bcc-ec91-db96cf7755cd"
      },
      "source": [
        "traffic.shape"
      ],
      "execution_count": null,
      "outputs": [
        {
          "output_type": "execute_result",
          "data": {
            "text/plain": [
              "(138469, 10)"
            ]
          },
          "metadata": {
            "tags": []
          },
          "execution_count": 5
        }
      ]
    },
    {
      "cell_type": "markdown",
      "metadata": {
        "id": "baE3imkIN_cP"
      },
      "source": [
        "The TrafficVolume dataset has 138469 observations with 10 features"
      ]
    },
    {
      "cell_type": "code",
      "metadata": {
        "colab": {
          "base_uri": "https://localhost:8080/"
        },
        "id": "f5c9xB5PN3Fh",
        "outputId": "8e78f108-9f21-414d-c8a6-45d4901bb00c"
      },
      "source": [
        "#Now we will check columns types\n",
        "traffic.dtypes"
      ],
      "execution_count": null,
      "outputs": [
        {
          "output_type": "execute_result",
          "data": {
            "text/plain": [
              "Timestamp                  object\n",
              "LocationLatitude          float64\n",
              "LocationLongitude         float64\n",
              "RadioConnectionType        object\n",
              "Country                    object\n",
              "RadioNetworkGeneration     object\n",
              "RadioOperatorName          object\n",
              "TrafficDirection           object\n",
              "TrafficVolume             float64\n",
              "RadioMobileDataEnabled     object\n",
              "dtype: object"
            ]
          },
          "metadata": {
            "tags": []
          },
          "execution_count": 6
        }
      ]
    },
    {
      "cell_type": "code",
      "metadata": {
        "colab": {
          "base_uri": "https://localhost:8080/"
        },
        "id": "R-GuyYGdOQkT",
        "outputId": "ae41bf81-548d-4072-b4e5-c9eced6b590e"
      },
      "source": [
        "#Let's explore the object type columns in more details\n",
        "traffic.select_dtypes('object').apply(pd.Series.nunique, axis = 0)"
      ],
      "execution_count": null,
      "outputs": [
        {
          "output_type": "execute_result",
          "data": {
            "text/plain": [
              "Timestamp                 805\n",
              "RadioConnectionType         2\n",
              "Country                     1\n",
              "RadioNetworkGeneration      5\n",
              "RadioOperatorName           3\n",
              "TrafficDirection            2\n",
              "RadioMobileDataEnabled      2\n",
              "dtype: int64"
            ]
          },
          "metadata": {
            "tags": []
          },
          "execution_count": 7
        }
      ]
    },
    {
      "cell_type": "markdown",
      "metadata": {
        "id": "psMZ-0WKOdj1"
      },
      "source": [
        "Like we did in **rsrp** dataset we will remove country column as all observations are in the same country Saudi Arabia"
      ]
    },
    {
      "cell_type": "code",
      "metadata": {
        "colab": {
          "base_uri": "https://localhost:8080/",
          "height": 399
        },
        "id": "Kg9w6Ly3OWVV",
        "outputId": "c6d77ca5-5188-4383-8513-b6aa406aa232"
      },
      "source": [
        "traffic = traffic.drop(columns=\"Country\")\n",
        "traffic.head()"
      ],
      "execution_count": null,
      "outputs": [
        {
          "output_type": "execute_result",
          "data": {
            "text/html": [
              "<div>\n",
              "<style scoped>\n",
              "    .dataframe tbody tr th:only-of-type {\n",
              "        vertical-align: middle;\n",
              "    }\n",
              "\n",
              "    .dataframe tbody tr th {\n",
              "        vertical-align: top;\n",
              "    }\n",
              "\n",
              "    .dataframe thead th {\n",
              "        text-align: right;\n",
              "    }\n",
              "</style>\n",
              "<table border=\"1\" class=\"dataframe\">\n",
              "  <thead>\n",
              "    <tr style=\"text-align: right;\">\n",
              "      <th></th>\n",
              "      <th>Timestamp</th>\n",
              "      <th>LocationLatitude</th>\n",
              "      <th>LocationLongitude</th>\n",
              "      <th>RadioConnectionType</th>\n",
              "      <th>RadioNetworkGeneration</th>\n",
              "      <th>RadioOperatorName</th>\n",
              "      <th>TrafficDirection</th>\n",
              "      <th>TrafficVolume</th>\n",
              "      <th>RadioMobileDataEnabled</th>\n",
              "    </tr>\n",
              "  </thead>\n",
              "  <tbody>\n",
              "    <tr>\n",
              "      <th>0</th>\n",
              "      <td>2019-11-02 00:45:00.000 +0300</td>\n",
              "      <td>24.636574</td>\n",
              "      <td>46.710026</td>\n",
              "      <td>Mobile</td>\n",
              "      <td>3G</td>\n",
              "      <td>Operator A</td>\n",
              "      <td>Downlink</td>\n",
              "      <td>14.957630</td>\n",
              "      <td>Enabled</td>\n",
              "    </tr>\n",
              "    <tr>\n",
              "      <th>1</th>\n",
              "      <td>2019-11-02 00:45:00.000 +0300</td>\n",
              "      <td>24.636124</td>\n",
              "      <td>46.711742</td>\n",
              "      <td>Mobile</td>\n",
              "      <td>3G</td>\n",
              "      <td>Operator A</td>\n",
              "      <td>Uplink</td>\n",
              "      <td>0.304565</td>\n",
              "      <td>Enabled</td>\n",
              "    </tr>\n",
              "    <tr>\n",
              "      <th>2</th>\n",
              "      <td>2019-11-02 00:00:00.000 +0300</td>\n",
              "      <td>24.636728</td>\n",
              "      <td>46.710230</td>\n",
              "      <td>Mobile</td>\n",
              "      <td>3G</td>\n",
              "      <td>Operator A</td>\n",
              "      <td>Downlink</td>\n",
              "      <td>20.965813</td>\n",
              "      <td>Enabled</td>\n",
              "    </tr>\n",
              "    <tr>\n",
              "      <th>3</th>\n",
              "      <td>2019-11-02 00:00:00.000 +0300</td>\n",
              "      <td>24.636705</td>\n",
              "      <td>46.710243</td>\n",
              "      <td>Mobile</td>\n",
              "      <td>3G</td>\n",
              "      <td>Operator A</td>\n",
              "      <td>Uplink</td>\n",
              "      <td>0.706546</td>\n",
              "      <td>Enabled</td>\n",
              "    </tr>\n",
              "    <tr>\n",
              "      <th>4</th>\n",
              "      <td>2019-11-02 02:00:00.000 +0300</td>\n",
              "      <td>24.718973</td>\n",
              "      <td>46.805927</td>\n",
              "      <td>Mobile</td>\n",
              "      <td>4G</td>\n",
              "      <td>Operator B</td>\n",
              "      <td>Uplink</td>\n",
              "      <td>1.471874</td>\n",
              "      <td>Enabled</td>\n",
              "    </tr>\n",
              "  </tbody>\n",
              "</table>\n",
              "</div>"
            ],
            "text/plain": [
              "                       Timestamp  ...  RadioMobileDataEnabled\n",
              "0  2019-11-02 00:45:00.000 +0300  ...                 Enabled\n",
              "1  2019-11-02 00:45:00.000 +0300  ...                 Enabled\n",
              "2  2019-11-02 00:00:00.000 +0300  ...                 Enabled\n",
              "3  2019-11-02 00:00:00.000 +0300  ...                 Enabled\n",
              "4  2019-11-02 02:00:00.000 +0300  ...                 Enabled\n",
              "\n",
              "[5 rows x 9 columns]"
            ]
          },
          "metadata": {
            "tags": []
          },
          "execution_count": 14
        }
      ]
    },
    {
      "cell_type": "markdown",
      "metadata": {
        "id": "GezViHYHPQ8_"
      },
      "source": [
        "For **RadioConnectionType** we will do the same as **rsrp** dataset as we will include only Mobile category and delete WiFi then we can delete the column itself as it has only 1 category."
      ]
    },
    {
      "cell_type": "code",
      "metadata": {
        "colab": {
          "base_uri": "https://localhost:8080/"
        },
        "id": "YJlCN3CNOszq",
        "outputId": "08f0cb22-4b16-4826-d914-1e894a65f5b7"
      },
      "source": [
        "traffic['RadioConnectionType'].value_counts()"
      ],
      "execution_count": null,
      "outputs": [
        {
          "output_type": "execute_result",
          "data": {
            "text/plain": [
              "Mobile    136425\n",
              "WiFi        2044\n",
              "Name: RadioConnectionType, dtype: int64"
            ]
          },
          "metadata": {
            "tags": []
          },
          "execution_count": 15
        }
      ]
    },
    {
      "cell_type": "code",
      "metadata": {
        "id": "fmHO8ZOtPghf"
      },
      "source": [
        "traffic = traffic[traffic['RadioConnectionType'] == 'Mobile']"
      ],
      "execution_count": null,
      "outputs": []
    },
    {
      "cell_type": "code",
      "metadata": {
        "colab": {
          "base_uri": "https://localhost:8080/"
        },
        "id": "n1N2E4WIPrM7",
        "outputId": "e1cede6c-4c3a-4b18-da38-d5fb654aae39"
      },
      "source": [
        "traffic['RadioConnectionType'].value_counts()"
      ],
      "execution_count": null,
      "outputs": [
        {
          "output_type": "execute_result",
          "data": {
            "text/plain": [
              "Mobile    136425\n",
              "Name: RadioConnectionType, dtype: int64"
            ]
          },
          "metadata": {
            "tags": []
          },
          "execution_count": 17
        }
      ]
    },
    {
      "cell_type": "code",
      "metadata": {
        "id": "5Wz-WvDPPvqp"
      },
      "source": [
        "traffic = traffic.drop(columns=\"RadioConnectionType\")"
      ],
      "execution_count": null,
      "outputs": []
    },
    {
      "cell_type": "code",
      "metadata": {
        "colab": {
          "base_uri": "https://localhost:8080/"
        },
        "id": "EPK4dLCNP_bi",
        "outputId": "3728a252-a737-4185-aa49-8f9f47b66efc"
      },
      "source": [
        "traffic.shape"
      ],
      "execution_count": null,
      "outputs": [
        {
          "output_type": "execute_result",
          "data": {
            "text/plain": [
              "(136425, 8)"
            ]
          },
          "metadata": {
            "tags": []
          },
          "execution_count": 19
        }
      ]
    },
    {
      "cell_type": "markdown",
      "metadata": {
        "id": "aTXFscYQQDjq"
      },
      "source": [
        "Now we will do the same for **RadioNetworkGeneration** column by selecting only 4G observations then delete the whole column as it will have only 1 category"
      ]
    },
    {
      "cell_type": "code",
      "metadata": {
        "colab": {
          "base_uri": "https://localhost:8080/"
        },
        "id": "gAh-DpXxQCbj",
        "outputId": "7a64d9eb-5ffb-43fb-a1b6-d4c97967827c"
      },
      "source": [
        "traffic['RadioNetworkGeneration'].value_counts()"
      ],
      "execution_count": null,
      "outputs": [
        {
          "output_type": "execute_result",
          "data": {
            "text/plain": [
              "4G    102586\n",
              "3G     32334\n",
              "2G      1505\n",
              "Name: RadioNetworkGeneration, dtype: int64"
            ]
          },
          "metadata": {
            "tags": []
          },
          "execution_count": 20
        }
      ]
    },
    {
      "cell_type": "code",
      "metadata": {
        "colab": {
          "base_uri": "https://localhost:8080/"
        },
        "id": "kdeAK5H5QUNH",
        "outputId": "15117189-9ecb-4cd0-d653-4b13fea58507"
      },
      "source": [
        "traffic = traffic[traffic['RadioNetworkGeneration'] == '4G']\n",
        "traffic['RadioNetworkGeneration'].value_counts()"
      ],
      "execution_count": null,
      "outputs": [
        {
          "output_type": "execute_result",
          "data": {
            "text/plain": [
              "4G    102586\n",
              "Name: RadioNetworkGeneration, dtype: int64"
            ]
          },
          "metadata": {
            "tags": []
          },
          "execution_count": 22
        }
      ]
    },
    {
      "cell_type": "code",
      "metadata": {
        "colab": {
          "base_uri": "https://localhost:8080/"
        },
        "id": "ykEpY4XlUWie",
        "outputId": "109b5de9-1c3a-4934-f191-9a419422699b"
      },
      "source": [
        "traffic = traffic.drop(columns=\"RadioNetworkGeneration\")\n",
        "traffic.shape"
      ],
      "execution_count": null,
      "outputs": [
        {
          "output_type": "execute_result",
          "data": {
            "text/plain": [
              "(102586, 7)"
            ]
          },
          "metadata": {
            "tags": []
          },
          "execution_count": 23
        }
      ]
    },
    {
      "cell_type": "markdown",
      "metadata": {
        "id": "d-hBk-BXUwM_"
      },
      "source": [
        "Now we can check the different operators we have in the dataset"
      ]
    },
    {
      "cell_type": "code",
      "metadata": {
        "colab": {
          "base_uri": "https://localhost:8080/",
          "height": 331
        },
        "id": "oolrBF1LUiij",
        "outputId": "d8d295bf-5130-4d28-a6d5-708c50f7c368"
      },
      "source": [
        "cntplot = sns.countplot(x=\"RadioOperatorName\", data=traffic)\n",
        "cntplot.set_xticklabels(cntplot.get_xticklabels(), rotation=45, horizontalalignment='right')\n",
        "cntplot.set_title('Observations per Operator')\n",
        "plt.show()"
      ],
      "execution_count": null,
      "outputs": [
        {
          "output_type": "display_data",
          "data": {
            "image/png": "[encoded data removed]",
            "text/plain": [
              "<Figure size 432x288 with 1 Axes>"
            ]
          },
          "metadata": {
            "tags": [],
            "needs_background": "light"
          }
        }
      ]
    },
    {
      "cell_type": "markdown",
      "metadata": {
        "id": "YHhXwNRgVQtR"
      },
      "source": [
        "## **Missing values checking**"
      ]
    },
    {
      "cell_type": "code",
      "metadata": {
        "colab": {
          "base_uri": "https://localhost:8080/",
          "height": 269
        },
        "id": "sG_dwpXyU4tg",
        "outputId": "3a1b1ef0-6ab6-417d-9e4d-ded1f45ad108"
      },
      "source": [
        "#We will find the percentage of null values compared to total values for each column\n",
        "traffic_percent = 100 * traffic.isnull().sum() / len(traffic)\n",
        "#We will formulate train_percent into dataframe\n",
        "traffic_percent = traffic_percent.to_frame().reset_index()\n",
        "#We will rename the columns\n",
        "traffic_percent.columns= [\"Feature\",\"Null Percentage\"]\n",
        "#Finally let's sort the percentage from higher to lower\n",
        "traffic_percent.sort_values(by=['Null Percentage'],ascending=False)"
      ],
      "execution_count": null,
      "outputs": [
        {
          "output_type": "execute_result",
          "data": {
            "text/html": [
              "<div>\n",
              "<style scoped>\n",
              "    .dataframe tbody tr th:only-of-type {\n",
              "        vertical-align: middle;\n",
              "    }\n",
              "\n",
              "    .dataframe tbody tr th {\n",
              "        vertical-align: top;\n",
              "    }\n",
              "\n",
              "    .dataframe thead th {\n",
              "        text-align: right;\n",
              "    }\n",
              "</style>\n",
              "<table border=\"1\" class=\"dataframe\">\n",
              "  <thead>\n",
              "    <tr style=\"text-align: right;\">\n",
              "      <th></th>\n",
              "      <th>Feature</th>\n",
              "      <th>Null Percentage</th>\n",
              "    </tr>\n",
              "  </thead>\n",
              "  <tbody>\n",
              "    <tr>\n",
              "      <th>0</th>\n",
              "      <td>Timestamp</td>\n",
              "      <td>0.0</td>\n",
              "    </tr>\n",
              "    <tr>\n",
              "      <th>1</th>\n",
              "      <td>LocationLatitude</td>\n",
              "      <td>0.0</td>\n",
              "    </tr>\n",
              "    <tr>\n",
              "      <th>2</th>\n",
              "      <td>LocationLongitude</td>\n",
              "      <td>0.0</td>\n",
              "    </tr>\n",
              "    <tr>\n",
              "      <th>3</th>\n",
              "      <td>RadioOperatorName</td>\n",
              "      <td>0.0</td>\n",
              "    </tr>\n",
              "    <tr>\n",
              "      <th>4</th>\n",
              "      <td>TrafficDirection</td>\n",
              "      <td>0.0</td>\n",
              "    </tr>\n",
              "    <tr>\n",
              "      <th>5</th>\n",
              "      <td>TrafficVolume</td>\n",
              "      <td>0.0</td>\n",
              "    </tr>\n",
              "    <tr>\n",
              "      <th>6</th>\n",
              "      <td>RadioMobileDataEnabled</td>\n",
              "      <td>0.0</td>\n",
              "    </tr>\n",
              "  </tbody>\n",
              "</table>\n",
              "</div>"
            ],
            "text/plain": [
              "                  Feature  Null Percentage\n",
              "0               Timestamp              0.0\n",
              "1        LocationLatitude              0.0\n",
              "2       LocationLongitude              0.0\n",
              "3       RadioOperatorName              0.0\n",
              "4        TrafficDirection              0.0\n",
              "5           TrafficVolume              0.0\n",
              "6  RadioMobileDataEnabled              0.0"
            ]
          },
          "metadata": {
            "tags": []
          },
          "execution_count": 26
        }
      ]
    },
    {
      "cell_type": "markdown",
      "metadata": {
        "id": "A0QyUpiKVgGI"
      },
      "source": [
        "We don't have Null values for any of the remaining 7 columns; However, we can further check If we have anomalies in the contenious features we have."
      ]
    },
    {
      "cell_type": "markdown",
      "metadata": {
        "id": "qBH61rE0WC6y"
      },
      "source": [
        "## **Contnious variables exploration**"
      ]
    },
    {
      "cell_type": "code",
      "metadata": {
        "colab": {
          "base_uri": "https://localhost:8080/",
          "height": 300
        },
        "id": "5Xs1NDM9VeDw",
        "outputId": "c4cfda28-3840-4afc-e56a-7d343e1d97b3"
      },
      "source": [
        "traffic.describe()"
      ],
      "execution_count": null,
      "outputs": [
        {
          "output_type": "execute_result",
          "data": {
            "text/html": [
              "<div>\n",
              "<style scoped>\n",
              "    .dataframe tbody tr th:only-of-type {\n",
              "        vertical-align: middle;\n",
              "    }\n",
              "\n",
              "    .dataframe tbody tr th {\n",
              "        vertical-align: top;\n",
              "    }\n",
              "\n",
              "    .dataframe thead th {\n",
              "        text-align: right;\n",
              "    }\n",
              "</style>\n",
              "<table border=\"1\" class=\"dataframe\">\n",
              "  <thead>\n",
              "    <tr style=\"text-align: right;\">\n",
              "      <th></th>\n",
              "      <th>LocationLatitude</th>\n",
              "      <th>LocationLongitude</th>\n",
              "      <th>TrafficVolume</th>\n",
              "    </tr>\n",
              "  </thead>\n",
              "  <tbody>\n",
              "    <tr>\n",
              "      <th>count</th>\n",
              "      <td>102586.000000</td>\n",
              "      <td>102586.000000</td>\n",
              "      <td>102586.000000</td>\n",
              "    </tr>\n",
              "    <tr>\n",
              "      <th>mean</th>\n",
              "      <td>24.688096</td>\n",
              "      <td>46.729017</td>\n",
              "      <td>29.992131</td>\n",
              "    </tr>\n",
              "    <tr>\n",
              "      <th>std</th>\n",
              "      <td>0.097416</td>\n",
              "      <td>0.089524</td>\n",
              "      <td>1233.789349</td>\n",
              "    </tr>\n",
              "    <tr>\n",
              "      <th>min</th>\n",
              "      <td>24.435455</td>\n",
              "      <td>46.358420</td>\n",
              "      <td>0.001060</td>\n",
              "    </tr>\n",
              "    <tr>\n",
              "      <th>25%</th>\n",
              "      <td>24.612854</td>\n",
              "      <td>46.670923</td>\n",
              "      <td>0.189269</td>\n",
              "    </tr>\n",
              "    <tr>\n",
              "      <th>50%</th>\n",
              "      <td>24.684134</td>\n",
              "      <td>46.721710</td>\n",
              "      <td>0.742285</td>\n",
              "    </tr>\n",
              "    <tr>\n",
              "      <th>75%</th>\n",
              "      <td>24.759370</td>\n",
              "      <td>46.790030</td>\n",
              "      <td>3.561909</td>\n",
              "    </tr>\n",
              "    <tr>\n",
              "      <th>max</th>\n",
              "      <td>25.034151</td>\n",
              "      <td>47.178978</td>\n",
              "      <td>104022.000000</td>\n",
              "    </tr>\n",
              "  </tbody>\n",
              "</table>\n",
              "</div>"
            ],
            "text/plain": [
              "       LocationLatitude  LocationLongitude  TrafficVolume\n",
              "count     102586.000000      102586.000000  102586.000000\n",
              "mean          24.688096          46.729017      29.992131\n",
              "std            0.097416           0.089524    1233.789349\n",
              "min           24.435455          46.358420       0.001060\n",
              "25%           24.612854          46.670923       0.189269\n",
              "50%           24.684134          46.721710       0.742285\n",
              "75%           24.759370          46.790030       3.561909\n",
              "max           25.034151          47.178978  104022.000000"
            ]
          },
          "metadata": {
            "tags": []
          },
          "execution_count": 27
        }
      ]
    },
    {
      "cell_type": "markdown",
      "metadata": {
        "id": "km8E0v4QWf_p"
      },
      "source": [
        "For LocationLatitude and LocationLongitude the values seem to be normal unlike TrafficVolume values which have minimum value of -0.001060 which is accpetable and maximum value of 104022 MB which is somehow high so let's further investigate this column"
      ]
    },
    {
      "cell_type": "code",
      "metadata": {
        "colab": {
          "base_uri": "https://localhost:8080/",
          "height": 283
        },
        "id": "TGdmd-HeWG8V",
        "outputId": "41f5b9d2-d179-4679-976a-452b6b41dab6"
      },
      "source": [
        "traffic.boxplot(column=['TrafficVolume'])"
      ],
      "execution_count": null,
      "outputs": [
        {
          "output_type": "execute_result",
          "data": {
            "text/plain": [
              "<matplotlib.axes._subplots.AxesSubplot at 0x7fe959613a10>"
            ]
          },
          "metadata": {
            "tags": []
          },
          "execution_count": 28
        },
        {
          "output_type": "display_data",
          "data": {
            "image/png": "[encoded data removed]",
            "text/plain": [
              "<Figure size 432x288 with 1 Axes>"
            ]
          },
          "metadata": {
            "tags": [],
            "needs_background": "light"
          }
        }
      ]
    },
    {
      "cell_type": "markdown",
      "metadata": {
        "id": "tdZGDakxYo__"
      },
      "source": [
        "As we can see we have readings under 20000 MB and some outlier readings at around 100,000MB and for the high readings it supposed to be for downlink traffic so let's double confirm."
      ]
    },
    {
      "cell_type": "code",
      "metadata": {
        "colab": {
          "base_uri": "https://localhost:8080/"
        },
        "id": "1KcZwbRFYfG5",
        "outputId": "e2ff1e1d-8922-4fd7-86d2-a5256b056bab"
      },
      "source": [
        "traffic['TrafficVolume'][traffic['TrafficVolume'] > 50000].count()"
      ],
      "execution_count": null,
      "outputs": [
        {
          "output_type": "execute_result",
          "data": {
            "text/plain": [
              "15"
            ]
          },
          "metadata": {
            "tags": []
          },
          "execution_count": 40
        }
      ]
    },
    {
      "cell_type": "code",
      "metadata": {
        "colab": {
          "base_uri": "https://localhost:8080/",
          "height": 519
        },
        "id": "Gl8cPdfRZNNn",
        "outputId": "a7810690-5246-49da-e9da-1a3142aaef12"
      },
      "source": [
        "traffic[traffic['TrafficVolume'] > 50000]"
      ],
      "execution_count": null,
      "outputs": [
        {
          "output_type": "execute_result",
          "data": {
            "text/html": [
              "<div>\n",
              "<style scoped>\n",
              "    .dataframe tbody tr th:only-of-type {\n",
              "        vertical-align: middle;\n",
              "    }\n",
              "\n",
              "    .dataframe tbody tr th {\n",
              "        vertical-align: top;\n",
              "    }\n",
              "\n",
              "    .dataframe thead th {\n",
              "        text-align: right;\n",
              "    }\n",
              "</style>\n",
              "<table border=\"1\" class=\"dataframe\">\n",
              "  <thead>\n",
              "    <tr style=\"text-align: right;\">\n",
              "      <th></th>\n",
              "      <th>Timestamp</th>\n",
              "      <th>LocationLatitude</th>\n",
              "      <th>LocationLongitude</th>\n",
              "      <th>RadioOperatorName</th>\n",
              "      <th>TrafficDirection</th>\n",
              "      <th>TrafficVolume</th>\n",
              "      <th>RadioMobileDataEnabled</th>\n",
              "    </tr>\n",
              "  </thead>\n",
              "  <tbody>\n",
              "    <tr>\n",
              "      <th>12042</th>\n",
              "      <td>2019-11-02 01:00:00.000 +0300</td>\n",
              "      <td>24.600353</td>\n",
              "      <td>46.704693</td>\n",
              "      <td>Operator B</td>\n",
              "      <td>Downlink</td>\n",
              "      <td>99447.890395</td>\n",
              "      <td>Enabled</td>\n",
              "    </tr>\n",
              "    <tr>\n",
              "      <th>28810</th>\n",
              "      <td>2019-11-02 23:00:00.000 +0300</td>\n",
              "      <td>24.581163</td>\n",
              "      <td>46.742718</td>\n",
              "      <td>Operator B</td>\n",
              "      <td>Downlink</td>\n",
              "      <td>101282.000000</td>\n",
              "      <td>Enabled</td>\n",
              "    </tr>\n",
              "    <tr>\n",
              "      <th>43101</th>\n",
              "      <td>2019-11-03 19:00:00.000 +0300</td>\n",
              "      <td>24.787050</td>\n",
              "      <td>46.733547</td>\n",
              "      <td>Operator A</td>\n",
              "      <td>Downlink</td>\n",
              "      <td>55354.226097</td>\n",
              "      <td>Enabled</td>\n",
              "    </tr>\n",
              "    <tr>\n",
              "      <th>62041</th>\n",
              "      <td>2019-11-03 00:15:00.000 +0300</td>\n",
              "      <td>24.557735</td>\n",
              "      <td>46.574790</td>\n",
              "      <td>Operator B</td>\n",
              "      <td>Downlink</td>\n",
              "      <td>101378.000000</td>\n",
              "      <td>Enabled</td>\n",
              "    </tr>\n",
              "    <tr>\n",
              "      <th>62056</th>\n",
              "      <td>2019-11-02 18:30:00.000 +0300</td>\n",
              "      <td>24.565298</td>\n",
              "      <td>46.641380</td>\n",
              "      <td>Operator B</td>\n",
              "      <td>Downlink</td>\n",
              "      <td>100592.000000</td>\n",
              "      <td>Enabled</td>\n",
              "    </tr>\n",
              "    <tr>\n",
              "      <th>113042</th>\n",
              "      <td>2019-11-04 20:30:00.000 +0300</td>\n",
              "      <td>24.573608</td>\n",
              "      <td>46.635086</td>\n",
              "      <td>Operator B</td>\n",
              "      <td>Downlink</td>\n",
              "      <td>103740.000000</td>\n",
              "      <td>Enabled</td>\n",
              "    </tr>\n",
              "    <tr>\n",
              "      <th>131948</th>\n",
              "      <td>2019-11-03 21:15:00.000 +0300</td>\n",
              "      <td>24.572857</td>\n",
              "      <td>46.636147</td>\n",
              "      <td>Operator B</td>\n",
              "      <td>Downlink</td>\n",
              "      <td>102404.000000</td>\n",
              "      <td>Enabled</td>\n",
              "    </tr>\n",
              "    <tr>\n",
              "      <th>131961</th>\n",
              "      <td>2019-11-03 21:30:00.000 +0300</td>\n",
              "      <td>24.572857</td>\n",
              "      <td>46.636147</td>\n",
              "      <td>Operator B</td>\n",
              "      <td>Downlink</td>\n",
              "      <td>102407.000000</td>\n",
              "      <td>Enabled</td>\n",
              "    </tr>\n",
              "    <tr>\n",
              "      <th>131963</th>\n",
              "      <td>2019-11-03 18:45:00.000 +0300</td>\n",
              "      <td>24.573120</td>\n",
              "      <td>46.635387</td>\n",
              "      <td>Operator B</td>\n",
              "      <td>Downlink</td>\n",
              "      <td>102325.000000</td>\n",
              "      <td>Enabled</td>\n",
              "    </tr>\n",
              "    <tr>\n",
              "      <th>131982</th>\n",
              "      <td>2019-11-04 14:30:00.000 +0300</td>\n",
              "      <td>24.610582</td>\n",
              "      <td>46.728767</td>\n",
              "      <td>Operator B</td>\n",
              "      <td>Downlink</td>\n",
              "      <td>103291.000000</td>\n",
              "      <td>Enabled</td>\n",
              "    </tr>\n",
              "    <tr>\n",
              "      <th>131985</th>\n",
              "      <td>2019-11-04 21:15:00.000 +0300</td>\n",
              "      <td>24.573120</td>\n",
              "      <td>46.635387</td>\n",
              "      <td>Operator B</td>\n",
              "      <td>Downlink</td>\n",
              "      <td>103867.000000</td>\n",
              "      <td>Enabled</td>\n",
              "    </tr>\n",
              "    <tr>\n",
              "      <th>132000</th>\n",
              "      <td>2019-11-04 15:45:00.000 +0300</td>\n",
              "      <td>24.577402</td>\n",
              "      <td>46.636063</td>\n",
              "      <td>Operator B</td>\n",
              "      <td>Downlink</td>\n",
              "      <td>103295.000000</td>\n",
              "      <td>Enabled</td>\n",
              "    </tr>\n",
              "    <tr>\n",
              "      <th>132001</th>\n",
              "      <td>2019-11-04 16:15:00.000 +0300</td>\n",
              "      <td>24.570854</td>\n",
              "      <td>46.614887</td>\n",
              "      <td>Operator B</td>\n",
              "      <td>Downlink</td>\n",
              "      <td>103308.000000</td>\n",
              "      <td>Enabled</td>\n",
              "    </tr>\n",
              "    <tr>\n",
              "      <th>132020</th>\n",
              "      <td>2019-11-04 22:45:00.000 +0300</td>\n",
              "      <td>24.555527</td>\n",
              "      <td>46.571037</td>\n",
              "      <td>Operator B</td>\n",
              "      <td>Downlink</td>\n",
              "      <td>104022.000000</td>\n",
              "      <td>Enabled</td>\n",
              "    </tr>\n",
              "    <tr>\n",
              "      <th>132023</th>\n",
              "      <td>2019-11-04 21:00:00.000 +0300</td>\n",
              "      <td>24.573008</td>\n",
              "      <td>46.636030</td>\n",
              "      <td>Operator B</td>\n",
              "      <td>Downlink</td>\n",
              "      <td>103826.000000</td>\n",
              "      <td>Enabled</td>\n",
              "    </tr>\n",
              "  </tbody>\n",
              "</table>\n",
              "</div>"
            ],
            "text/plain": [
              "                            Timestamp  ...  RadioMobileDataEnabled\n",
              "12042   2019-11-02 01:00:00.000 +0300  ...                 Enabled\n",
              "28810   2019-11-02 23:00:00.000 +0300  ...                 Enabled\n",
              "43101   2019-11-03 19:00:00.000 +0300  ...                 Enabled\n",
              "62041   2019-11-03 00:15:00.000 +0300  ...                 Enabled\n",
              "62056   2019-11-02 18:30:00.000 +0300  ...                 Enabled\n",
              "113042  2019-11-04 20:30:00.000 +0300  ...                 Enabled\n",
              "131948  2019-11-03 21:15:00.000 +0300  ...                 Enabled\n",
              "131961  2019-11-03 21:30:00.000 +0300  ...                 Enabled\n",
              "131963  2019-11-03 18:45:00.000 +0300  ...                 Enabled\n",
              "131982  2019-11-04 14:30:00.000 +0300  ...                 Enabled\n",
              "131985  2019-11-04 21:15:00.000 +0300  ...                 Enabled\n",
              "132000  2019-11-04 15:45:00.000 +0300  ...                 Enabled\n",
              "132001  2019-11-04 16:15:00.000 +0300  ...                 Enabled\n",
              "132020  2019-11-04 22:45:00.000 +0300  ...                 Enabled\n",
              "132023  2019-11-04 21:00:00.000 +0300  ...                 Enabled\n",
              "\n",
              "[15 rows x 7 columns]"
            ]
          },
          "metadata": {
            "tags": []
          },
          "execution_count": 41
        }
      ]
    },
    {
      "cell_type": "markdown",
      "metadata": {
        "id": "VNP9F_UvZqxN"
      },
      "source": [
        "As we can see we have only 15 observations with Traffic Volume more than 50000 MB(50 GB) and as expected all of these observations are in the downlink direction and also all of them are done by users of operator B. Downloading 50Gb or more from Mobile Device is unusual action specially that most of the devices memory is less than 100GB and at the same time even for streaming activity 100GB is quite large and it is highly unlikely the user will continue their download or it will last for so long. I expect this reading to be like an error in the device or the user will realize how much time and device resoureces it will take to do the operation and cancel it. Regardless the reason of these readings I believe it is better to remove them from our processed dataset. "
      ]
    },
    {
      "cell_type": "code",
      "metadata": {
        "colab": {
          "base_uri": "https://localhost:8080/"
        },
        "id": "2nmOtYMBZeAv",
        "outputId": "96be183a-c45c-4081-bec8-7191e120c8f8"
      },
      "source": [
        "traffic['TrafficVolume'].count()"
      ],
      "execution_count": null,
      "outputs": [
        {
          "output_type": "execute_result",
          "data": {
            "text/plain": [
              "102586"
            ]
          },
          "metadata": {
            "tags": []
          },
          "execution_count": 35
        }
      ]
    },
    {
      "cell_type": "code",
      "metadata": {
        "id": "xLCKRoCocC1X"
      },
      "source": [
        "traffic = traffic[traffic['TrafficVolume'] < 50000]"
      ],
      "execution_count": null,
      "outputs": []
    },
    {
      "cell_type": "code",
      "metadata": {
        "colab": {
          "base_uri": "https://localhost:8080/"
        },
        "id": "E8BjPcducnUa",
        "outputId": "65f79a61-b2e0-44cd-b4f6-abc88e1227b9"
      },
      "source": [
        "traffic['TrafficVolume'].count()"
      ],
      "execution_count": null,
      "outputs": [
        {
          "output_type": "execute_result",
          "data": {
            "text/plain": [
              "102571"
            ]
          },
          "metadata": {
            "tags": []
          },
          "execution_count": 43
        }
      ]
    },
    {
      "cell_type": "code",
      "metadata": {
        "colab": {
          "base_uri": "https://localhost:8080/"
        },
        "id": "JqTpJkxTcpMy",
        "outputId": "d195d0ff-c3fb-4e4a-9b0f-a0210eda5ae7"
      },
      "source": [
        "traffic.shape"
      ],
      "execution_count": null,
      "outputs": [
        {
          "output_type": "execute_result",
          "data": {
            "text/plain": [
              "(102571, 7)"
            ]
          },
          "metadata": {
            "tags": []
          },
          "execution_count": 44
        }
      ]
    },
    {
      "cell_type": "markdown",
      "metadata": {
        "id": "nGWVfCpqczX-"
      },
      "source": [
        "## **Saving traffic dataframe to CSV**"
      ]
    },
    {
      "cell_type": "code",
      "metadata": {
        "id": "IkVjFlwqcr8R"
      },
      "source": [
        "traffic.to_csv('/content/gdrive/My Drive/Ericsson_DS_challenge/TrafficVolume_processed.csv',index = False)"
      ],
      "execution_count": null,
      "outputs": []
    },
    {
      "cell_type": "code",
      "metadata": {
        "id": "amvJCbWUdEf7"
      },
      "source": [
        ""
      ],
      "execution_count": null,
      "outputs": []
    }
  ]
}